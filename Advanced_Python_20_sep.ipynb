{
 "cells": [
  {
   "cell_type": "code",
   "execution_count": 1,
   "id": "5d376dc1",
   "metadata": {},
   "outputs": [
    {
     "data": {
      "text/plain": [
       "'a=10, b=4, c=88'"
      ]
     },
     "execution_count": 1,
     "metadata": {},
     "output_type": "execute_result"
    }
   ],
   "source": [
    "a = 10\n",
    "b = 4\n",
    "c = 88\n",
    "'a={}, b={}, c={}'.format(a,b,c)"
   ]
  },
  {
   "cell_type": "code",
   "execution_count": 2,
   "id": "c5c64442",
   "metadata": {},
   "outputs": [
    {
     "data": {
      "text/plain": [
       "'python is fun'"
      ]
     },
     "execution_count": 2,
     "metadata": {},
     "output_type": "execute_result"
    }
   ],
   "source": [
    "'     python is fun    '.strip()\n"
   ]
  },
  {
   "cell_type": "code",
   "execution_count": 3,
   "id": "691866be",
   "metadata": {},
   "outputs": [
    {
     "data": {
      "text/plain": [
       "True"
      ]
     },
     "execution_count": 3,
     "metadata": {},
     "output_type": "execute_result"
    }
   ],
   "source": [
    "s = \"malayalam\"\n",
    "s == s[::-1]"
   ]
  },
  {
   "cell_type": "code",
   "execution_count": 4,
   "id": "e034315b",
   "metadata": {},
   "outputs": [
    {
     "data": {
      "text/plain": [
       "False"
      ]
     },
     "execution_count": 4,
     "metadata": {},
     "output_type": "execute_result"
    }
   ],
   "source": [
    "s = \"nikita\"\n",
    "s == s[::-1]"
   ]
  },
  {
   "cell_type": "code",
   "execution_count": 5,
   "id": "6bee8e4b",
   "metadata": {},
   "outputs": [
    {
     "data": {
      "text/plain": [
       "['abc', 'cu']"
      ]
     },
     "execution_count": 5,
     "metadata": {},
     "output_type": "execute_result"
    }
   ],
   "source": [
    "s = \"abc$cu\"\n",
    "s.split(\"$\")"
   ]
  },
  {
   "cell_type": "code",
   "execution_count": 6,
   "id": "a1836dd4",
   "metadata": {},
   "outputs": [
    {
     "data": {
      "text/plain": [
       "['my', 'name']"
      ]
     },
     "execution_count": 6,
     "metadata": {},
     "output_type": "execute_result"
    }
   ],
   "source": [
    "s = \"my name\"\n",
    "s.split()"
   ]
  },
  {
   "cell_type": "code",
   "execution_count": 7,
   "id": "28834e95",
   "metadata": {},
   "outputs": [
    {
     "name": "stdout",
     "output_type": "stream",
     "text": [
      "\n",
      " Enter number26\n",
      "Factorial is:  403291461126605635584000000\n"
     ]
    }
   ],
   "source": [
    "n = int(input(\"\\n Enter number\"))\n",
    "fact = 1\n",
    "\n",
    "for i in range(1,n+1):\n",
    "    fact = fact * i\n",
    "\n",
    "print (\"Factorial is: \",end = \" \")\n",
    "print(fact)"
   ]
  },
  {
   "cell_type": "code",
   "execution_count": 8,
   "id": "c2d34777",
   "metadata": {},
   "outputs": [
    {
     "name": "stdout",
     "output_type": "stream",
     "text": [
      "\n",
      " Enter number4\n",
      "Factorial is:  24\n"
     ]
    }
   ],
   "source": [
    "n = int(input(\"\\n Enter number\"))\n",
    "fact = 1\n",
    "\n",
    "for i in range(1,n+1):\n",
    "    fact = fact * i\n",
    "\n",
    "print (\"Factorial is: \",end = \" \")\n",
    "print(fact)"
   ]
  },
  {
   "cell_type": "code",
   "execution_count": 9,
   "id": "87a1c782",
   "metadata": {},
   "outputs": [],
   "source": [
    "d = {'a':100, 'b':20, 'c':30, 'e':20, 'k':{'x':10}, 'v':[1,2,3]}"
   ]
  },
  {
   "cell_type": "code",
   "execution_count": 10,
   "id": "e87197c2",
   "metadata": {},
   "outputs": [
    {
     "data": {
      "text/plain": [
       "[1, 2, 3]"
      ]
     },
     "execution_count": 10,
     "metadata": {},
     "output_type": "execute_result"
    }
   ],
   "source": [
    "d['v'][0:3]"
   ]
  },
  {
   "cell_type": "code",
   "execution_count": 11,
   "id": "8e4a85e1",
   "metadata": {},
   "outputs": [
    {
     "data": {
      "text/plain": [
       "[1, 2]"
      ]
     },
     "execution_count": 11,
     "metadata": {},
     "output_type": "execute_result"
    }
   ],
   "source": [
    "d['v'][0:2]"
   ]
  },
  {
   "cell_type": "code",
   "execution_count": 12,
   "id": "2e0438a4",
   "metadata": {},
   "outputs": [
    {
     "data": {
      "text/plain": [
       "[1]"
      ]
     },
     "execution_count": 12,
     "metadata": {},
     "output_type": "execute_result"
    }
   ],
   "source": [
    "d['v'][0:1]"
   ]
  },
  {
   "cell_type": "code",
   "execution_count": 13,
   "id": "3fb48bbe",
   "metadata": {},
   "outputs": [],
   "source": [
    "tp = ((1,2,3),7,(45,66,67),(6,7,9),[1,2,44,6],{'1':1})\n"
   ]
  },
  {
   "cell_type": "code",
   "execution_count": 14,
   "id": "490abc59",
   "metadata": {},
   "outputs": [
    {
     "name": "stdout",
     "output_type": "stream",
     "text": [
      "(1, 2, 3)\n",
      "(45, 66, 67)\n",
      "(6, 7, 9)\n"
     ]
    }
   ],
   "source": [
    "for i in tp:\n",
    "    if isinstance(i, tuple):\n",
    "        print(i)"
   ]
  },
  {
   "cell_type": "code",
   "execution_count": 15,
   "id": "d5087234",
   "metadata": {},
   "outputs": [
    {
     "name": "stdout",
     "output_type": "stream",
     "text": [
      "(1, 2, 3)\n",
      "1\n",
      "2\n",
      "3\n",
      "(45, 66, 67)\n",
      "45\n",
      "66\n",
      "67\n",
      "(6, 7, 9)\n",
      "6\n",
      "7\n",
      "9\n"
     ]
    }
   ],
   "source": [
    "for i in tp:\n",
    "    if isinstance(i, tuple):\n",
    "        print(i)\n",
    "        for j in i:\n",
    "            print(j)"
   ]
  },
  {
   "cell_type": "code",
   "execution_count": 16,
   "id": "0c370960",
   "metadata": {},
   "outputs": [
    {
     "data": {
      "text/plain": [
       "140197911195720"
      ]
     },
     "execution_count": 16,
     "metadata": {},
     "output_type": "execute_result"
    }
   ],
   "source": [
    "id(tp)"
   ]
  },
  {
   "cell_type": "code",
   "execution_count": 17,
   "id": "57ad6101",
   "metadata": {},
   "outputs": [
    {
     "data": {
      "text/plain": [
       "'Hi , Nikita Here'"
      ]
     },
     "execution_count": 17,
     "metadata": {},
     "output_type": "execute_result"
    }
   ],
   "source": [
    "\"Hi , Nikita Here\"\n"
   ]
  },
  {
   "cell_type": "code",
   "execution_count": 18,
   "id": "b02a51d3",
   "metadata": {},
   "outputs": [
    {
     "name": "stdout",
     "output_type": "stream",
     "text": [
      "1. Create Employee records\n",
      "2. Update the Employee details\n",
      "3. Delete employee record\n",
      "4. Display\n",
      "5. Exit\n",
      "Enter your choice[1-5]: 1\n",
      "Enter the Employee name: nikita\n",
      "Enter the Employee id: 69523\n",
      "Enter the phone number: 2323232323\n",
      "Technologies[comma seperated ed: C++, Python, .Net] C++, Java\n",
      "1. Create Employee records\n",
      "2. Update the Employee details\n",
      "3. Delete employee record\n",
      "4. Display\n",
      "5. Exit\n",
      "Enter your choice[1-5]: 2\n",
      "Whoes details you want to update ?, Please enter the emp_id: 69523\n",
      "name(nikita)nikita\n",
      "phone(2323232323)4545456363\n",
      "tech(['C++', ' Java'])Python\n",
      "1. Create Employee records\n",
      "2. Update the Employee details\n",
      "3. Delete employee record\n",
      "4. Display\n",
      "5. Exit\n",
      "Enter your choice[1-5]: 5\n"
     ]
    }
   ],
   "source": [
    "emp_info = {}\n",
    "\n",
    "while True:\n",
    "    print(\"1. Create Employee records\")\n",
    "    print(\"2. Update the Employee details\")\n",
    "    print(\"3. Delete employee record\")\n",
    "    print(\"4. Display\")\n",
    "    print(\"5. Exit\")\n",
    "    ch = int(input(\"Enter your choice[1-5]: \"))\n",
    "    if ch == 1:\n",
    "        name = input(\"Enter the Employee name: \")\n",
    "        emp_id = int(input(\"Enter the Employee id: \"))\n",
    "        ph = input(\"Enter the phone number: \")\n",
    "        tech = input(\"Technologies[comma seperated ed: C++, Python, .Net] \")\n",
    "        emp_info[emp_id] = {\"name\" : name, \"phone\" : ph, \"tech\" : tech.split(',')}\n",
    "    elif ch == 2:\n",
    "        who = int(input(\"Whoes details you want to update ?, Please enter the emp_id: \"))\n",
    "        rec = emp_info[who]\n",
    "        for field, value in rec.items():\n",
    "            new = input('{}({})'.format(field, value))\n",
    "            emp_info[who][field] = value if new == '' else new\n",
    "    elif ch == 3:\n",
    "        pass\n",
    "    elif ch == 4:\n",
    "        print(emp_info)\n",
    "    else:\n",
    "        break"
   ]
  },
  {
   "cell_type": "code",
   "execution_count": 19,
   "id": "8be3839c",
   "metadata": {},
   "outputs": [
    {
     "name": "stdout",
     "output_type": "stream",
     "text": [
      "1. Create Employee records\n",
      "2. Update the Employee details\n",
      "3. Delete employee record\n",
      "4. Display\n",
      "5. Exit\n",
      "Enter your choice[1-5]: 4\n",
      "{}\n",
      "1. Create Employee records\n",
      "2. Update the Employee details\n",
      "3. Delete employee record\n",
      "4. Display\n",
      "5. Exit\n",
      "Enter your choice[1-5]: 1\n",
      "Enter the Employee name: Nikita Patil\n",
      "Enter the Employee id: 69532\n",
      "Enter the phone number: 4563456345\n",
      "Technologies[comma seperated ed: C++, Python, .Net] CSS, HTML,Mongodb\n",
      "1. Create Employee records\n",
      "2. Update the Employee details\n",
      "3. Delete employee record\n",
      "4. Display\n",
      "5. Exit\n",
      "Enter your choice[1-5]: 1\n",
      "Enter the Employee name: Bhagya Shekh\n",
      "Enter the Employee id: 45632\n",
      "Enter the phone number: 7878789696\n",
      "Technologies[comma seperated ed: C++, Python, .Net] Java\n",
      "1. Create Employee records\n",
      "2. Update the Employee details\n",
      "3. Delete employee record\n",
      "4. Display\n",
      "5. Exit\n",
      "Enter your choice[1-5]: 4\n",
      "{69532: {'name': 'Nikita Patil', 'phone': '4563456345', 'tech': ['CSS', ' HTML', 'Mongodb']}, 45632: {'name': 'Bhagya Shekh', 'phone': '7878789696', 'tech': ['Java']}}\n",
      "1. Create Employee records\n",
      "2. Update the Employee details\n",
      "3. Delete employee record\n",
      "4. Display\n",
      "5. Exit\n",
      "Enter your choice[1-5]: 3\n",
      "Enter emp_id to delete Employee details: 45632\n",
      "Deleted\n",
      "1. Create Employee records\n",
      "2. Update the Employee details\n",
      "3. Delete employee record\n",
      "4. Display\n",
      "5. Exit\n",
      "Enter your choice[1-5]: 4\n",
      "{69532: {'name': 'Nikita Patil', 'phone': '4563456345', 'tech': ['CSS', ' HTML', 'Mongodb']}}\n",
      "1. Create Employee records\n",
      "2. Update the Employee details\n",
      "3. Delete employee record\n",
      "4. Display\n",
      "5. Exit\n",
      "Enter your choice[1-5]: 5\n"
     ]
    }
   ],
   "source": [
    "emp_info = {}\n",
    "\n",
    "while True:\n",
    "    print(\"1. Create Employee records\")\n",
    "    print(\"2. Update the Employee details\")\n",
    "    print(\"3. Delete employee record\")\n",
    "    print(\"4. Display\")\n",
    "    print(\"5. Exit\")\n",
    "    ch = int(input(\"Enter your choice[1-5]: \"))\n",
    "    if ch == 1:\n",
    "        name = input(\"Enter the Employee name: \")\n",
    "        emp_id = int(input(\"Enter the Employee id: \"))\n",
    "        ph = input(\"Enter the phone number: \")\n",
    "        tech = input(\"Technologies[comma seperated ed: C++, Python, .Net] \")\n",
    "        emp_info[emp_id] = {\"name\" : name, \"phone\" : ph, \"tech\" : tech.split(',')}\n",
    "    elif ch == 2:\n",
    "        who = int(input(\"Whoes details you want to update ?, Please enter the emp_id: \"))\n",
    "        rec = emp_info[who]\n",
    "        for field, value in rec.items():\n",
    "            new = input('{}({})'.format(field, value))\n",
    "            emp_info[who][field] = value if new == '' else new\n",
    "    elif ch == 3:\n",
    "        who = int(input(\"Enter emp_id to delete Employee details: \"))\n",
    "        if who in emp_info:\n",
    "            del emp_info[who]\n",
    "            print(\"Deleted\")\n",
    "        else:\n",
    "            print(\"Record Not Found! \")\n",
    "    elif ch == 4:\n",
    "        print(emp_info)\n",
    "    else:\n",
    "        break"
   ]
  },
  {
   "cell_type": "code",
   "execution_count": 1,
   "id": "6fa168ca",
   "metadata": {},
   "outputs": [
    {
     "data": {
      "text/plain": [
       "[0, 1, 2, 3, 4, 5, 6, 7, 8, 9]"
      ]
     },
     "execution_count": 1,
     "metadata": {},
     "output_type": "execute_result"
    }
   ],
   "source": [
    "[x for x in range(10)]"
   ]
  },
  {
   "cell_type": "code",
   "execution_count": 2,
   "id": "970b30eb",
   "metadata": {},
   "outputs": [
    {
     "data": {
      "text/plain": [
       "[0, 2, 4, 6, 8]"
      ]
     },
     "execution_count": 2,
     "metadata": {},
     "output_type": "execute_result"
    }
   ],
   "source": [
    "[x for x in range(10) if x%2 == 0]"
   ]
  },
  {
   "cell_type": "code",
   "execution_count": 3,
   "id": "41570774",
   "metadata": {},
   "outputs": [
    {
     "name": "stdout",
     "output_type": "stream",
     "text": [
      "Enter a index for which you want to see square: 6\n",
      "64\n"
     ]
    }
   ],
   "source": [
    "n = [1,2,3,4,5,6,7,8]\n",
    "\n",
    "num = int(input(\"Enter a index for which you want to see square: \"))\n",
    "squares = []\n",
    "for num in n:\n",
    "    squares.append(num**2)\n",
    "idx_pos = n.index(num)\n",
    "print(squares[idx_pos])"
   ]
  },
  {
   "cell_type": "code",
   "execution_count": 4,
   "id": "8059a71a",
   "metadata": {},
   "outputs": [
    {
     "name": "stdout",
     "output_type": "stream",
     "text": [
      "Enter a index for which you want to see square: 7\n",
      "64\n"
     ]
    }
   ],
   "source": [
    "n = [1,2,3,4,5,6,7,8]\n",
    "\n",
    "num = int(input(\"Enter a index for which you want to see square: \"))\n",
    "squares = []\n",
    "for num in n:\n",
    "    squares.append(num**2)\n",
    "idx_pos = n.index(num)\n",
    "print(squares[idx_pos])"
   ]
  },
  {
   "cell_type": "code",
   "execution_count": null,
   "id": "c65a9fec",
   "metadata": {},
   "outputs": [],
   "source": []
  },
  {
   "cell_type": "code",
   "execution_count": null,
   "id": "a42b4b33",
   "metadata": {},
   "outputs": [],
   "source": []
  },
  {
   "cell_type": "code",
   "execution_count": null,
   "id": "7f9d45a1",
   "metadata": {},
   "outputs": [],
   "source": []
  },
  {
   "cell_type": "code",
   "execution_count": 7,
   "id": "d6140ef9",
   "metadata": {},
   "outputs": [
    {
     "name": "stdout",
     "output_type": "stream",
     "text": [
      "Enter the index for which you want to see square: 4\n",
      "16\n"
     ]
    }
   ],
   "source": [
    "num = int(input(\"Enter the index for which you want to see square: \"))\n",
    "sq = [num**2 for num in n]\n",
    "idx_pos = n.index(num)\n",
    "print(sq[idx_pos])"
   ]
  },
  {
   "cell_type": "code",
   "execution_count": 6,
   "id": "8f5288b9",
   "metadata": {},
   "outputs": [
    {
     "data": {
      "text/plain": [
       "{1: 1, 2: 4, 3: 9, 4: 16, 5: 25}"
      ]
     },
     "execution_count": 6,
     "metadata": {},
     "output_type": "execute_result"
    }
   ],
   "source": [
    "{k:k**2 for k in range(1,6)}"
   ]
  },
  {
   "cell_type": "code",
   "execution_count": 9,
   "id": "675e290e",
   "metadata": {},
   "outputs": [],
   "source": [
    "#convert tuple to dict\n",
    "\n",
    "# {0:45, 1:77, 2:109, 4:data, 4:[]}\n",
    "tp = (45, 77, 109, 'data', [\"raj\", \"rohan\"])"
   ]
  },
  {
   "cell_type": "code",
   "execution_count": 10,
   "id": "ba762500",
   "metadata": {},
   "outputs": [
    {
     "data": {
      "text/plain": [
       "{0: 45, 1: 77, 2: 109, 3: 'data', 4: ['raj', 'rohan']}"
      ]
     },
     "execution_count": 10,
     "metadata": {},
     "output_type": "execute_result"
    }
   ],
   "source": [
    "{k:tp[k] for k in range(len(tp))}"
   ]
  },
  {
   "cell_type": "code",
   "execution_count": 12,
   "id": "013f5e09",
   "metadata": {},
   "outputs": [
    {
     "data": {
      "text/plain": [
       "{0: 45, 1: 77, 2: 109, 3: 'data', 4: ['raj', 'rohan']}"
      ]
     },
     "execution_count": 12,
     "metadata": {},
     "output_type": "execute_result"
    }
   ],
   "source": [
    "# second logic\n",
    "\n",
    "{tp.index(v):v for v in tp}"
   ]
  },
  {
   "cell_type": "code",
   "execution_count": 13,
   "id": "74543a67",
   "metadata": {},
   "outputs": [
    {
     "name": "stdout",
     "output_type": "stream",
     "text": [
      "(['raj', 'rohan'], 'data', 109, 77, 45)\n"
     ]
    }
   ],
   "source": [
    "# reverse element of tuple\n",
    "\n",
    "new_tp = tp[::-1]\n",
    "print(new_tp)"
   ]
  },
  {
   "cell_type": "code",
   "execution_count": 14,
   "id": "57c27513",
   "metadata": {},
   "outputs": [],
   "source": [
    "s = {2,4,6,8,90,88,92,91}"
   ]
  },
  {
   "cell_type": "code",
   "execution_count": 15,
   "id": "72dc218a",
   "metadata": {},
   "outputs": [
    {
     "data": {
      "text/plain": [
       "set"
      ]
     },
     "execution_count": 15,
     "metadata": {},
     "output_type": "execute_result"
    }
   ],
   "source": [
    "type(s)"
   ]
  },
  {
   "cell_type": "code",
   "execution_count": 16,
   "id": "5b6f1262",
   "metadata": {},
   "outputs": [],
   "source": [
    "lst = [1,1,1,2,2,2,3,4,5]"
   ]
  },
  {
   "cell_type": "code",
   "execution_count": 17,
   "id": "bc479682",
   "metadata": {},
   "outputs": [
    {
     "data": {
      "text/plain": [
       "[1, 1, 1, 2, 2, 2, 3, 4, 5]"
      ]
     },
     "execution_count": 17,
     "metadata": {},
     "output_type": "execute_result"
    }
   ],
   "source": [
    "lst"
   ]
  },
  {
   "cell_type": "code",
   "execution_count": 18,
   "id": "acfbae7f",
   "metadata": {},
   "outputs": [
    {
     "data": {
      "text/plain": [
       "{1, 2, 3, 4, 5}"
      ]
     },
     "execution_count": 18,
     "metadata": {},
     "output_type": "execute_result"
    }
   ],
   "source": [
    "set(lst)"
   ]
  },
  {
   "cell_type": "code",
   "execution_count": 19,
   "id": "a2f74e18",
   "metadata": {},
   "outputs": [],
   "source": [
    "s.add(100)\n"
   ]
  },
  {
   "cell_type": "code",
   "execution_count": 20,
   "id": "54230a65",
   "metadata": {},
   "outputs": [
    {
     "data": {
      "text/plain": [
       "{2, 4, 6, 8, 88, 90, 91, 92, 100}"
      ]
     },
     "execution_count": 20,
     "metadata": {},
     "output_type": "execute_result"
    }
   ],
   "source": [
    "s"
   ]
  },
  {
   "cell_type": "code",
   "execution_count": 21,
   "id": "bcfe9839",
   "metadata": {},
   "outputs": [],
   "source": [
    "lst = [34,6,7,5,3,2,(88,),4,5,7,8,9,4,3,'hi',5,(7,97,7),4,2]\n"
   ]
  },
  {
   "cell_type": "code",
   "execution_count": 22,
   "id": "5410945b",
   "metadata": {},
   "outputs": [
    {
     "data": {
      "text/plain": [
       "{(7, 97, 7), (88,), 2, 3, 34, 4, 5, 6, 7, 8, 9, 'hi'}"
      ]
     },
     "execution_count": 22,
     "metadata": {},
     "output_type": "execute_result"
    }
   ],
   "source": [
    "set(lst)\n"
   ]
  },
  {
   "cell_type": "code",
   "execution_count": 23,
   "id": "20cae61e",
   "metadata": {},
   "outputs": [
    {
     "data": {
      "text/plain": [
       "{1, 2, 3, 4, 5, 6, 7, 8, 9, 10, 11, 12}"
      ]
     },
     "execution_count": 23,
     "metadata": {},
     "output_type": "execute_result"
    }
   ],
   "source": [
    "s1 = {1,2,3,4,5,6,7,8}\n",
    "s2 = {5,6,7,8,9,10,11,12}\n",
    "\n",
    "s1.union(s2)\n"
   ]
  },
  {
   "cell_type": "code",
   "execution_count": 24,
   "id": "9ad19927",
   "metadata": {},
   "outputs": [
    {
     "data": {
      "text/plain": [
       "{1, 2, 3, 4}"
      ]
     },
     "execution_count": 24,
     "metadata": {},
     "output_type": "execute_result"
    }
   ],
   "source": [
    "s1.difference(s2)\n"
   ]
  },
  {
   "cell_type": "code",
   "execution_count": 25,
   "id": "e5b56c35",
   "metadata": {},
   "outputs": [
    {
     "data": {
      "text/plain": [
       "{9, 10, 11, 12}"
      ]
     },
     "execution_count": 25,
     "metadata": {},
     "output_type": "execute_result"
    }
   ],
   "source": [
    "s2.difference(s1)\n"
   ]
  },
  {
   "cell_type": "code",
   "execution_count": 26,
   "id": "a283cdca",
   "metadata": {},
   "outputs": [
    {
     "data": {
      "text/plain": [
       "{5, 6, 7, 8}"
      ]
     },
     "execution_count": 26,
     "metadata": {},
     "output_type": "execute_result"
    }
   ],
   "source": [
    "s1.intersection(s2)\n"
   ]
  },
  {
   "cell_type": "code",
   "execution_count": 27,
   "id": "9fefea1b",
   "metadata": {},
   "outputs": [
    {
     "data": {
      "text/plain": [
       "{1, 2, 3, 4}"
      ]
     },
     "execution_count": 27,
     "metadata": {},
     "output_type": "execute_result"
    }
   ],
   "source": [
    "s1-s2\n"
   ]
  },
  {
   "cell_type": "code",
   "execution_count": 28,
   "id": "916d9964",
   "metadata": {},
   "outputs": [
    {
     "data": {
      "text/plain": [
       "{9, 10, 11, 12}"
      ]
     },
     "execution_count": 28,
     "metadata": {},
     "output_type": "execute_result"
    }
   ],
   "source": [
    "s2-s1\n"
   ]
  },
  {
   "cell_type": "code",
   "execution_count": 29,
   "id": "34633f76",
   "metadata": {},
   "outputs": [
    {
     "data": {
      "text/plain": [
       "1"
      ]
     },
     "execution_count": 29,
     "metadata": {},
     "output_type": "execute_result"
    }
   ],
   "source": [
    "s1.pop()\n"
   ]
  },
  {
   "cell_type": "code",
   "execution_count": 30,
   "id": "9ac01d70",
   "metadata": {},
   "outputs": [
    {
     "data": {
      "text/plain": [
       "['__and__',\n",
       " '__class__',\n",
       " '__contains__',\n",
       " '__delattr__',\n",
       " '__dir__',\n",
       " '__doc__',\n",
       " '__eq__',\n",
       " '__format__',\n",
       " '__ge__',\n",
       " '__getattribute__',\n",
       " '__gt__',\n",
       " '__hash__',\n",
       " '__iand__',\n",
       " '__init__',\n",
       " '__init_subclass__',\n",
       " '__ior__',\n",
       " '__isub__',\n",
       " '__iter__',\n",
       " '__ixor__',\n",
       " '__le__',\n",
       " '__len__',\n",
       " '__lt__',\n",
       " '__ne__',\n",
       " '__new__',\n",
       " '__or__',\n",
       " '__rand__',\n",
       " '__reduce__',\n",
       " '__reduce_ex__',\n",
       " '__repr__',\n",
       " '__ror__',\n",
       " '__rsub__',\n",
       " '__rxor__',\n",
       " '__setattr__',\n",
       " '__sizeof__',\n",
       " '__str__',\n",
       " '__sub__',\n",
       " '__subclasshook__',\n",
       " '__xor__',\n",
       " 'add',\n",
       " 'clear',\n",
       " 'copy',\n",
       " 'difference',\n",
       " 'difference_update',\n",
       " 'discard',\n",
       " 'intersection',\n",
       " 'intersection_update',\n",
       " 'isdisjoint',\n",
       " 'issubset',\n",
       " 'issuperset',\n",
       " 'pop',\n",
       " 'remove',\n",
       " 'symmetric_difference',\n",
       " 'symmetric_difference_update',\n",
       " 'union',\n",
       " 'update']"
      ]
     },
     "execution_count": 30,
     "metadata": {},
     "output_type": "execute_result"
    }
   ],
   "source": [
    "dir(s1)\n"
   ]
  },
  {
   "cell_type": "code",
   "execution_count": 31,
   "id": "3e9d6a0f",
   "metadata": {},
   "outputs": [],
   "source": [
    "s1.remove(2)\n"
   ]
  },
  {
   "cell_type": "code",
   "execution_count": 32,
   "id": "18a79c74",
   "metadata": {},
   "outputs": [
    {
     "data": {
      "text/plain": [
       "{3, 4, 5, 6, 7, 8}"
      ]
     },
     "execution_count": 32,
     "metadata": {},
     "output_type": "execute_result"
    }
   ],
   "source": [
    "s1\n"
   ]
  },
  {
   "cell_type": "code",
   "execution_count": 33,
   "id": "c4b718af",
   "metadata": {},
   "outputs": [],
   "source": [
    "s3 = {5,6}"
   ]
  },
  {
   "cell_type": "code",
   "execution_count": 34,
   "id": "0cb1232e",
   "metadata": {},
   "outputs": [
    {
     "data": {
      "text/plain": [
       "True"
      ]
     },
     "execution_count": 34,
     "metadata": {},
     "output_type": "execute_result"
    }
   ],
   "source": [
    "s3.issubset(s1)\n"
   ]
  },
  {
   "cell_type": "code",
   "execution_count": 35,
   "id": "f732e5f1",
   "metadata": {},
   "outputs": [
    {
     "data": {
      "text/plain": [
       "{3, 4, 7, 8}"
      ]
     },
     "execution_count": 35,
     "metadata": {},
     "output_type": "execute_result"
    }
   ],
   "source": [
    "s3.symmetric_difference(s1)"
   ]
  },
  {
   "cell_type": "code",
   "execution_count": 36,
   "id": "21ccd0ac",
   "metadata": {},
   "outputs": [
    {
     "data": {
      "text/plain": [
       "False"
      ]
     },
     "execution_count": 36,
     "metadata": {},
     "output_type": "execute_result"
    }
   ],
   "source": [
    "s1.issubset(s3)\n"
   ]
  },
  {
   "cell_type": "code",
   "execution_count": 37,
   "id": "975823ee",
   "metadata": {},
   "outputs": [
    {
     "data": {
      "text/plain": [
       "True"
      ]
     },
     "execution_count": 37,
     "metadata": {},
     "output_type": "execute_result"
    }
   ],
   "source": [
    "s1.issuperset(s3)\n"
   ]
  },
  {
   "cell_type": "code",
   "execution_count": 38,
   "id": "66ab2ba6",
   "metadata": {},
   "outputs": [],
   "source": [
    "def greeting(name, age):\n",
    "    print(\"hello %s\" % name)\n",
    "    print(\"Welcome to python\")\n",
    "    print(\"Your age is %s\" %age)"
   ]
  },
  {
   "cell_type": "code",
   "execution_count": 39,
   "id": "483891ec",
   "metadata": {},
   "outputs": [
    {
     "name": "stdout",
     "output_type": "stream",
     "text": [
      "hello Nikita\n",
      "Welcome to python\n",
      "Your age is 21\n"
     ]
    }
   ],
   "source": [
    "greeting('Nikita',21)"
   ]
  },
  {
   "cell_type": "code",
   "execution_count": 40,
   "id": "af2d7e2e",
   "metadata": {},
   "outputs": [],
   "source": [
    "def greeting(name, age):\n",
    "    print(\"hello %s\" % name)\n",
    "    print(\"Welcome to python\")\n",
    "    if isinstance(age, (int, float)):\n",
    "        print(age)"
   ]
  },
  {
   "cell_type": "code",
   "execution_count": 42,
   "id": "2db5dc57",
   "metadata": {},
   "outputs": [
    {
     "name": "stdout",
     "output_type": "stream",
     "text": [
      "hello Vani\n",
      "Welcome to python\n",
      "23\n"
     ]
    }
   ],
   "source": [
    "greeting('Vani',23)\n"
   ]
  },
  {
   "cell_type": "code",
   "execution_count": 43,
   "id": "9875f184",
   "metadata": {},
   "outputs": [],
   "source": [
    "def greeting(name = '',age =25):\n",
    "    \"\"\"\n",
    "    this function is responsible to greet people\n",
    "    \"\"\"\n",
    "    print(\"Hello {}\".format(name))\n",
    "    print(\"Welcome to python\")\n",
    "    if isinstance(age,(int, float)):\n",
    "        print(\"age\", age)"
   ]
  },
  {
   "cell_type": "code",
   "execution_count": 44,
   "id": "eb3604bb",
   "metadata": {},
   "outputs": [
    {
     "name": "stdout",
     "output_type": "stream",
     "text": [
      "Hello Nivi\n",
      "Welcome to python\n",
      "age 25\n"
     ]
    }
   ],
   "source": [
    "greeting('Nivi')\n"
   ]
  },
  {
   "cell_type": "code",
   "execution_count": 45,
   "id": "5762cef9",
   "metadata": {},
   "outputs": [],
   "source": [
    "def greeting(name = '',age =22):\n",
    "    \"\"\"\n",
    "    this function is responsible to greet people\n",
    "    \n",
    "    \"\"\"\n",
    "    print(\"Hello {}\".format(name))\n",
    "    print(\"Welcome to python\")\n",
    "    if isinstance(age,(int, float)):\n",
    "        print(\"age\", age)"
   ]
  },
  {
   "cell_type": "code",
   "execution_count": 46,
   "id": "db6a9e1d",
   "metadata": {},
   "outputs": [
    {
     "name": "stdout",
     "output_type": "stream",
     "text": [
      "Hello Vani\n",
      "Welcome to python\n",
      "age 22\n"
     ]
    }
   ],
   "source": [
    "greeting('Vani')"
   ]
  },
  {
   "cell_type": "code",
   "execution_count": 47,
   "id": "f5ee2e89",
   "metadata": {},
   "outputs": [
    {
     "name": "stdout",
     "output_type": "stream",
     "text": [
      "Hello 22\n",
      "Welcome to python\n"
     ]
    }
   ],
   "source": [
    "greeting(22,'Vani')"
   ]
  },
  {
   "cell_type": "code",
   "execution_count": 48,
   "id": "6d60cce1",
   "metadata": {},
   "outputs": [
    {
     "name": "stdout",
     "output_type": "stream",
     "text": [
      "Hello Nikita\n",
      "Welcome to python\n",
      "age 21\n"
     ]
    }
   ],
   "source": [
    "greeting(age = 21, name = \"Nikita\")"
   ]
  },
  {
   "cell_type": "code",
   "execution_count": 49,
   "id": "02e65a0f",
   "metadata": {},
   "outputs": [],
   "source": [
    "def greeting(name, age, phone=\"4523568974\", address=\"pune\"):\n",
    "    \"\"\"\n",
    "    this function is responsible to greet people\n",
    "    \n",
    "    \"\"\"\n",
    "    print(\"Name {}\".format(name))\n",
    "    print(\"age {}\".format(age))\n",
    "    print(\"Phone {}\".format(phone))\n",
    "    print(\"address %s\" % address)"
   ]
  },
  {
   "cell_type": "code",
   "execution_count": 50,
   "id": "13df5191",
   "metadata": {},
   "outputs": [
    {
     "name": "stdout",
     "output_type": "stream",
     "text": [
      "Name Nikita\n",
      "age 21\n",
      "Phone 4523568974\n",
      "address pune\n"
     ]
    }
   ],
   "source": [
    "greeting('Nikita',21)"
   ]
  },
  {
   "cell_type": "code",
   "execution_count": 51,
   "id": "e0844b3d",
   "metadata": {},
   "outputs": [
    {
     "name": "stdout",
     "output_type": "stream",
     "text": [
      "Name Nikita\n",
      "age 21\n",
      "Phone 9898985252\n",
      "address Mumbai\n"
     ]
    }
   ],
   "source": [
    "greeting('Nikita',21,9898985252,'Mumbai')"
   ]
  },
  {
   "cell_type": "code",
   "execution_count": 52,
   "id": "d742a460",
   "metadata": {},
   "outputs": [],
   "source": [
    "def greeting(*args, phone = \"11111\", address = \"Pune\"):\n",
    "    print(\"Complete args {}\".format(args))\n",
    "    print(\"Hello {}\".format(args[0]))\n",
    "    print(\"age {}\".format(args[1]))\n",
    "    print(\"phone \", phone)\n",
    "    print(\"address \", address)"
   ]
  },
  {
   "cell_type": "code",
   "execution_count": 54,
   "id": "15904ae3",
   "metadata": {},
   "outputs": [
    {
     "name": "stdout",
     "output_type": "stream",
     "text": [
      "Complete args ('Vani', 18)\n",
      "Hello Vani\n",
      "age 18\n",
      "phone  8282825645\n",
      "address  Mumbai\n"
     ]
    }
   ],
   "source": [
    "greeting('Vani',18,phone='8282825645', address = 'Mumbai')"
   ]
  },
  {
   "cell_type": "code",
   "execution_count": 55,
   "id": "46c4c364",
   "metadata": {},
   "outputs": [
    {
     "name": "stdout",
     "output_type": "stream",
     "text": [
      "Complete args ('Nikita', 21, 'Nivi', '100', 'name', {'1': 1})\n",
      "Hello Nikita\n",
      "age 21\n",
      "phone  8888888888\n",
      "address  Thane\n"
     ]
    }
   ],
   "source": [
    "greeting('Nikita',21,'Nivi',\"100\",\"name\",{\"1\":1},phone='8888888888', address = 'Thane')"
   ]
  },
  {
   "cell_type": "code",
   "execution_count": 56,
   "id": "fc0cec67",
   "metadata": {},
   "outputs": [],
   "source": [
    "def get_data(name, *args, phone=\"0000\", address = \"Pune\"):\n",
    "    print(\"name\", name)\n",
    "    print(\"args\", args)\n",
    "    print(\"phone\", phone)\n",
    "    print(\"address\", address)"
   ]
  },
  {
   "cell_type": "code",
   "execution_count": 57,
   "id": "4969a5b4",
   "metadata": {},
   "outputs": [
    {
     "name": "stdout",
     "output_type": "stream",
     "text": [
      "name Niki\n",
      "args ('IT', 'Banglore')\n",
      "phone 123324\n",
      "address Pune\n"
     ]
    }
   ],
   "source": [
    "get_data('Niki',\"IT\", \"Banglore\", phone=\"123324\", address = \"Pune\")"
   ]
  },
  {
   "cell_type": "code",
   "execution_count": 3,
   "id": "3403d410",
   "metadata": {},
   "outputs": [],
   "source": [
    "def get_data(name, *args, **kwargs):\n",
    "    print(\"name \", name)\n",
    "    print(\"args \", args)\n",
    "    print(\"kwargs \", kwargs)"
   ]
  },
  {
   "cell_type": "code",
   "execution_count": 4,
   "id": "fb18c9fd",
   "metadata": {},
   "outputs": [
    {
     "name": "stdout",
     "output_type": "stream",
     "text": [
      "name  Niki\n",
      "args  (20236, 'IT', 'Banglore')\n",
      "kwargs  {'phone': '1214233', 'location': 'Pune'}\n"
     ]
    }
   ],
   "source": [
    "get_data('Niki', 20236, \"IT\", \"Banglore\", phone = \"1214233\", location = \"Pune\")"
   ]
  },
  {
   "cell_type": "code",
   "execution_count": 5,
   "id": "d449c454",
   "metadata": {},
   "outputs": [],
   "source": [
    "def get_data(name, *args, **kwargs):\n",
    "    print(\"name \", name)\n",
    "    print(\"args \", args)\n",
    "    print(\"Phone \", kwargs['phone'])"
   ]
  },
  {
   "cell_type": "code",
   "execution_count": 7,
   "id": "66a4001c",
   "metadata": {},
   "outputs": [
    {
     "name": "stdout",
     "output_type": "stream",
     "text": [
      "name  Nidhi\n",
      "args  (20124, 'IT', 'Hyderabad')\n",
      "Phone  4578233\n"
     ]
    }
   ],
   "source": [
    "get_data('Nidhi', 20124, \"IT\", \"Hyderabad\", phone = \"4578233\", location = \"Pune\")\n"
   ]
  },
  {
   "cell_type": "code",
   "execution_count": 8,
   "id": "bcf4de44",
   "metadata": {},
   "outputs": [],
   "source": [
    "def get_data(name, *args, dis = 100, **kwargs):\n",
    "    print(\"name \", name)\n",
    "    print(\"args \", args)\n",
    "    print(\"Phone \", kwargs['phone'])\n",
    "    print(\"Discount \", dis)"
   ]
  },
  {
   "cell_type": "code",
   "execution_count": 9,
   "id": "ab38d2d8",
   "metadata": {},
   "outputs": [
    {
     "name": "stdout",
     "output_type": "stream",
     "text": [
      "name  Nidhi\n",
      "args  (145896, 'IT', 'Mumbai')\n",
      "Phone  1214233\n",
      "Discount  500\n"
     ]
    }
   ],
   "source": [
    "\n",
    "get_data('Nidhi', 145896, \"IT\", \"Mumbai\",dis = 500, phone = \"1214233\", location = \"Pune\")"
   ]
  },
  {
   "cell_type": "code",
   "execution_count": 10,
   "id": "dbbb72ff",
   "metadata": {},
   "outputs": [
    {
     "name": "stdout",
     "output_type": "stream",
     "text": [
      "Enter number10\n"
     ]
    },
    {
     "ename": "TypeError",
     "evalue": "'int' object is not iterable",
     "output_type": "error",
     "traceback": [
      "\u001b[0;31m---------------------------------------------------------------------------\u001b[0m",
      "\u001b[0;31mTypeError\u001b[0m                                 Traceback (most recent call last)",
      "\u001b[0;32m<ipython-input-10-d9d36a9e7d50>\u001b[0m in \u001b[0;36m<module>\u001b[0;34m\u001b[0m\n\u001b[1;32m      1\u001b[0m \u001b[0mi\u001b[0m\u001b[0;34m=\u001b[0m\u001b[0;36m1\u001b[0m\u001b[0;34m\u001b[0m\u001b[0;34m\u001b[0m\u001b[0m\n\u001b[1;32m      2\u001b[0m \u001b[0mn\u001b[0m \u001b[0;34m=\u001b[0m \u001b[0mint\u001b[0m\u001b[0;34m(\u001b[0m\u001b[0minput\u001b[0m\u001b[0;34m(\u001b[0m\u001b[0;34m\"Enter number\"\u001b[0m\u001b[0;34m)\u001b[0m\u001b[0;34m)\u001b[0m\u001b[0;34m\u001b[0m\u001b[0;34m\u001b[0m\u001b[0m\n\u001b[0;32m----> 3\u001b[0;31m \u001b[0;32mfor\u001b[0m \u001b[0mi\u001b[0m \u001b[0;32min\u001b[0m \u001b[0mn\u001b[0m\u001b[0;34m:\u001b[0m\u001b[0;34m\u001b[0m\u001b[0;34m\u001b[0m\u001b[0m\n\u001b[0m\u001b[1;32m      4\u001b[0m     \u001b[0mprint\u001b[0m\u001b[0;34m(\u001b[0m\u001b[0mi\u001b[0m\u001b[0;34m)\u001b[0m\u001b[0;34m\u001b[0m\u001b[0;34m\u001b[0m\u001b[0m\n",
      "\u001b[0;31mTypeError\u001b[0m: 'int' object is not iterable"
     ]
    }
   ],
   "source": [
    "i=1\n",
    "n = int(input(\"Enter number\"))\n",
    "for i in n:\n",
    "    print(i)"
   ]
  },
  {
   "cell_type": "code",
   "execution_count": 11,
   "id": "cf330486",
   "metadata": {},
   "outputs": [],
   "source": [
    "def dis_natural_no(n):\n",
    "    i=1\n",
    "    for i in range(1,n+1):\n",
    "        print(i)"
   ]
  },
  {
   "cell_type": "code",
   "execution_count": 12,
   "id": "0a6e74d1",
   "metadata": {},
   "outputs": [
    {
     "name": "stdout",
     "output_type": "stream",
     "text": [
      "1\n",
      "2\n",
      "3\n",
      "4\n",
      "5\n",
      "6\n",
      "7\n",
      "8\n"
     ]
    }
   ],
   "source": [
    "dis_natural_no(8)"
   ]
  },
  {
   "cell_type": "code",
   "execution_count": 13,
   "id": "a4463a77",
   "metadata": {},
   "outputs": [
    {
     "data": {
      "text/plain": [
       "36"
      ]
     },
     "execution_count": 13,
     "metadata": {},
     "output_type": "execute_result"
    }
   ],
   "source": [
    "def square(x):\n",
    "    return x**2\n",
    "square(6)"
   ]
  },
  {
   "cell_type": "code",
   "execution_count": 14,
   "id": "ddd05a72",
   "metadata": {},
   "outputs": [
    {
     "data": {
      "text/plain": [
       "625"
      ]
     },
     "execution_count": 14,
     "metadata": {},
     "output_type": "execute_result"
    }
   ],
   "source": [
    "square(25)"
   ]
  },
  {
   "cell_type": "code",
   "execution_count": 15,
   "id": "4e9460fd",
   "metadata": {},
   "outputs": [
    {
     "data": {
      "text/plain": [
       "2025"
      ]
     },
     "execution_count": 15,
     "metadata": {},
     "output_type": "execute_result"
    }
   ],
   "source": [
    "# lambda args: expression\n",
    "\n",
    "x = lambda x: x**2\n",
    "x(45)"
   ]
  },
  {
   "cell_type": "code",
   "execution_count": 16,
   "id": "86b85943",
   "metadata": {},
   "outputs": [
    {
     "data": {
      "text/plain": [
       "9"
      ]
     },
     "execution_count": 16,
     "metadata": {},
     "output_type": "execute_result"
    }
   ],
   "source": [
    "x(3)"
   ]
  },
  {
   "cell_type": "code",
   "execution_count": 17,
   "id": "8faeec68",
   "metadata": {},
   "outputs": [
    {
     "data": {
      "text/plain": [
       "[4, 16, 25, 64, 81]"
      ]
     },
     "execution_count": 17,
     "metadata": {},
     "output_type": "execute_result"
    }
   ],
   "source": [
    "list(map(square,(2,4,5,8,9)))"
   ]
  },
  {
   "cell_type": "code",
   "execution_count": 18,
   "id": "f7c6cd7c",
   "metadata": {},
   "outputs": [
    {
     "data": {
      "text/plain": [
       "['PYTHON', 'IS', 'FUN']"
      ]
     },
     "execution_count": 18,
     "metadata": {},
     "output_type": "execute_result"
    }
   ],
   "source": [
    "# map(function, [], ())\n",
    "list(map(str.upper,['python', 'is', 'fun']))"
   ]
  },
  {
   "cell_type": "code",
   "execution_count": 19,
   "id": "8ec1bed4",
   "metadata": {},
   "outputs": [
    {
     "name": "stdout",
     "output_type": "stream",
     "text": [
      "PYTHON\n",
      "IS\n",
      "FUN\n"
     ]
    }
   ],
   "source": [
    "for w in ['python', 'is', 'fun']:\n",
    "    print(w.upper())"
   ]
  },
  {
   "cell_type": "code",
   "execution_count": 20,
   "id": "7221a904",
   "metadata": {},
   "outputs": [
    {
     "name": "stdout",
     "output_type": "stream",
     "text": [
      "4\n"
     ]
    }
   ],
   "source": [
    "def func():\n",
    "    x1=4\n",
    "    print(x1)\n",
    "func()"
   ]
  },
  {
   "cell_type": "code",
   "execution_count": 21,
   "id": "0bfdb67f",
   "metadata": {},
   "outputs": [
    {
     "name": "stdout",
     "output_type": "stream",
     "text": [
      "4\n"
     ]
    }
   ],
   "source": [
    "def func():\n",
    "    global x1\n",
    "    x1=4\n",
    "    print(x1)\n",
    "func()"
   ]
  },
  {
   "cell_type": "code",
   "execution_count": 22,
   "id": "91974105",
   "metadata": {},
   "outputs": [
    {
     "data": {
      "text/plain": [
       "4"
      ]
     },
     "execution_count": 22,
     "metadata": {},
     "output_type": "execute_result"
    }
   ],
   "source": [
    "x1"
   ]
  },
  {
   "cell_type": "code",
   "execution_count": 23,
   "id": "06420bb1",
   "metadata": {},
   "outputs": [],
   "source": [
    "def outer():\n",
    "    i=10\n",
    "    j=8\n",
    "    def inner():\n",
    "        print(i)\n",
    "        print(\"i am inner function\")\n",
    "    def inner2():\n",
    "        print(j)\n",
    "        print(\"second inner\")\n",
    "    inner()\n",
    "    inner2()\n",
    "    return inner, inner2"
   ]
  },
  {
   "cell_type": "code",
   "execution_count": 24,
   "id": "deb88f6e",
   "metadata": {},
   "outputs": [
    {
     "name": "stdout",
     "output_type": "stream",
     "text": [
      "10\n",
      "i am inner function\n",
      "8\n",
      "second inner\n"
     ]
    }
   ],
   "source": [
    "p = outer()"
   ]
  },
  {
   "cell_type": "code",
   "execution_count": 25,
   "id": "75819426",
   "metadata": {},
   "outputs": [
    {
     "name": "stdout",
     "output_type": "stream",
     "text": [
      "10\n",
      "i am inner function\n"
     ]
    }
   ],
   "source": [
    "p[0]()"
   ]
  },
  {
   "cell_type": "code",
   "execution_count": 26,
   "id": "6cb80cdb",
   "metadata": {},
   "outputs": [
    {
     "name": "stdout",
     "output_type": "stream",
     "text": [
      "8\n",
      "second inner\n"
     ]
    }
   ],
   "source": [
    "p[1]()"
   ]
  },
  {
   "cell_type": "code",
   "execution_count": 27,
   "id": "32c5c755",
   "metadata": {},
   "outputs": [
    {
     "data": {
      "text/plain": [
       "['__add__',\n",
       " '__class__',\n",
       " '__contains__',\n",
       " '__delattr__',\n",
       " '__dir__',\n",
       " '__doc__',\n",
       " '__eq__',\n",
       " '__format__',\n",
       " '__ge__',\n",
       " '__getattribute__',\n",
       " '__getitem__',\n",
       " '__getnewargs__',\n",
       " '__gt__',\n",
       " '__hash__',\n",
       " '__init__',\n",
       " '__init_subclass__',\n",
       " '__iter__',\n",
       " '__le__',\n",
       " '__len__',\n",
       " '__lt__',\n",
       " '__mul__',\n",
       " '__ne__',\n",
       " '__new__',\n",
       " '__reduce__',\n",
       " '__reduce_ex__',\n",
       " '__repr__',\n",
       " '__rmul__',\n",
       " '__setattr__',\n",
       " '__sizeof__',\n",
       " '__str__',\n",
       " '__subclasshook__',\n",
       " 'count',\n",
       " 'index']"
      ]
     },
     "execution_count": 27,
     "metadata": {},
     "output_type": "execute_result"
    }
   ],
   "source": [
    "dir(p)"
   ]
  },
  {
   "cell_type": "code",
   "execution_count": 28,
   "id": "948003a9",
   "metadata": {},
   "outputs": [],
   "source": [
    "def outer(f):\n",
    "    def inner():\n",
    "        result = f()\n",
    "        return result ** 2\n",
    "    return inner"
   ]
  },
  {
   "cell_type": "code",
   "execution_count": 29,
   "id": "8e902d6e",
   "metadata": {},
   "outputs": [],
   "source": [
    "def num():\n",
    "    return 5"
   ]
  },
  {
   "cell_type": "code",
   "execution_count": 30,
   "id": "39112da7",
   "metadata": {},
   "outputs": [],
   "source": [
    "r = outer(num)"
   ]
  },
  {
   "cell_type": "code",
   "execution_count": 32,
   "id": "c04137c5",
   "metadata": {},
   "outputs": [
    {
     "data": {
      "text/plain": [
       "25"
      ]
     },
     "execution_count": 32,
     "metadata": {},
     "output_type": "execute_result"
    }
   ],
   "source": [
    "r()"
   ]
  },
  {
   "cell_type": "code",
   "execution_count": 33,
   "id": "de90eeda",
   "metadata": {},
   "outputs": [],
   "source": [
    "@outer\n",
    "def num():\n",
    "    return 5\n"
   ]
  },
  {
   "cell_type": "code",
   "execution_count": 34,
   "id": "8b25c3f7",
   "metadata": {},
   "outputs": [
    {
     "data": {
      "text/plain": [
       "25"
      ]
     },
     "execution_count": 34,
     "metadata": {},
     "output_type": "execute_result"
    }
   ],
   "source": [
    "num()"
   ]
  },
  {
   "cell_type": "code",
   "execution_count": 35,
   "id": "edf86dc3",
   "metadata": {},
   "outputs": [],
   "source": [
    "def outer(f):\n",
    "    def inner(n1,n2):\n",
    "        result = f(n1,n2)\n",
    "        return result **2\n",
    "    return inner\n",
    "\n"
   ]
  },
  {
   "cell_type": "code",
   "execution_count": 36,
   "id": "0878f70f",
   "metadata": {},
   "outputs": [],
   "source": [
    "@outer\n",
    "def num(n1,n2):\n",
    "    return n1+n2+5\n"
   ]
  },
  {
   "cell_type": "code",
   "execution_count": 37,
   "id": "ed78d693",
   "metadata": {},
   "outputs": [
    {
     "data": {
      "text/plain": [
       "64"
      ]
     },
     "execution_count": 37,
     "metadata": {},
     "output_type": "execute_result"
    }
   ],
   "source": [
    "num(1,2)"
   ]
  },
  {
   "cell_type": "code",
   "execution_count": 38,
   "id": "78765ca5",
   "metadata": {},
   "outputs": [],
   "source": [
    "def validate(func):\n",
    "    def validator(*args, **kwargs):\n",
    "        if len(args)>1:\n",
    "            if args[1] == 0:\n",
    "                print(\"we are expecting non zero number\")\n",
    "                return None\n",
    "            else:\n",
    "                power = func(args[0],args[1])\n",
    "                return power\n",
    "        else:\n",
    "            print(\"Invalid args\")\n",
    "    return validator"
   ]
  },
  {
   "cell_type": "code",
   "execution_count": 40,
   "id": "4b67b031",
   "metadata": {},
   "outputs": [],
   "source": [
    "import math\n",
    "\n"
   ]
  },
  {
   "cell_type": "code",
   "execution_count": 41,
   "id": "f9b84755",
   "metadata": {},
   "outputs": [],
   "source": [
    "@validate\n",
    "def mypower(x,y):\n",
    "    return math.pow(x,y)"
   ]
  },
  {
   "cell_type": "code",
   "execution_count": 42,
   "id": "52be48ce",
   "metadata": {},
   "outputs": [
    {
     "name": "stdout",
     "output_type": "stream",
     "text": [
      "we are expecting non zero number\n"
     ]
    }
   ],
   "source": [
    "mypower(10,0)"
   ]
  },
  {
   "cell_type": "code",
   "execution_count": 43,
   "id": "8f954b23",
   "metadata": {},
   "outputs": [
    {
     "data": {
      "text/plain": [
       "100000.0"
      ]
     },
     "execution_count": 43,
     "metadata": {},
     "output_type": "execute_result"
    }
   ],
   "source": [
    "mypower(10,5)"
   ]
  },
  {
   "cell_type": "code",
   "execution_count": 44,
   "id": "157fabc6",
   "metadata": {},
   "outputs": [
    {
     "name": "stdout",
     "output_type": "stream",
     "text": [
      "Invalid args\n"
     ]
    }
   ],
   "source": [
    "mypower(10)"
   ]
  },
  {
   "cell_type": "code",
   "execution_count": 45,
   "id": "7cac5581",
   "metadata": {},
   "outputs": [
    {
     "data": {
      "text/plain": [
       "[2, 4, 6, 8, 10]"
      ]
     },
     "execution_count": 45,
     "metadata": {},
     "output_type": "execute_result"
    }
   ],
   "source": [
    "list_1 = [1,2,3,4,5,6,7,8,9,10]\n",
    "list(filter(lambda x: x%2==0, list_1))"
   ]
  },
  {
   "cell_type": "code",
   "execution_count": 46,
   "id": "b3c0554d",
   "metadata": {},
   "outputs": [
    {
     "data": {
      "text/plain": [
       "[1, 8, 27, 64, 125, 216, 343, 512, 729]"
      ]
     },
     "execution_count": 46,
     "metadata": {},
     "output_type": "execute_result"
    }
   ],
   "source": [
    "list_1 = [1,2,3,4,5,6,7,8,9]\n",
    "list(map(lambda x: pow(x,3), list_1))"
   ]
  },
  {
   "cell_type": "code",
   "execution_count": 47,
   "id": "96073acc",
   "metadata": {},
   "outputs": [],
   "source": [
    "# general purpose decorators\n",
    "\n",
    "def a_decorator_passing_arbitrary_arguments(function_to_decorate):\n",
    "    \n",
    "    def a_wrapper_accepting_arbitrary_arguments(*args, **kwargs):\n",
    "        print(\"The positional arguments are \", args)\n",
    "        print(\"The keyword arguments are \", kwargs)\n",
    "        function_to_decorate(*args)\n",
    "    \n",
    "    return a_wrapper_accepting_arbitrary_arguments\n",
    "\n",
    "@a_decorator_passing_arbitrary_arguments\n",
    "def function_with_no_arguments():\n",
    "    print(\"No arguments here....\")"
   ]
  },
  {
   "cell_type": "code",
   "execution_count": 48,
   "id": "cb317411",
   "metadata": {},
   "outputs": [
    {
     "name": "stdout",
     "output_type": "stream",
     "text": [
      "The positional arguments are  ()\n",
      "The keyword arguments are  {}\n",
      "No arguments here....\n"
     ]
    }
   ],
   "source": [
    "function_with_no_arguments()\n"
   ]
  },
  {
   "cell_type": "code",
   "execution_count": 49,
   "id": "60bd3493",
   "metadata": {},
   "outputs": [
    {
     "name": "stdout",
     "output_type": "stream",
     "text": [
      "positional arguments are (10, 20, 30)\n",
      "The Keyword arguments are {}\n",
      "10 20 30\n"
     ]
    }
   ],
   "source": [
    "# passing positional arguments to decorators\n",
    "def accept_the_arguments(function_to_decorator):\n",
    "    def inner_function(*args, **kwargs):\n",
    "        print(\"positional arguments are\", args)\n",
    "        print(\"The Keyword arguments are\", kwargs)\n",
    "        function_to_decorator(*args)\n",
    "    return inner_function\n",
    "\n",
    "@accept_the_arguments\n",
    "def function_with_args(a,b,c):\n",
    "    print(a,b,c)\n",
    "\n",
    "function_with_args(10,20,30)"
   ]
  },
  {
   "cell_type": "code",
   "execution_count": 50,
   "id": "948a525a",
   "metadata": {},
   "outputs": [],
   "source": [
    "# passing kwargs based arguments\n",
    "\n",
    "def accepting_kwargs(function_to_decorator):\n",
    "    def inner_function(*args, **kwargs):\n",
    "        print(\"args values \", args)\n",
    "        print(\"positional args \", kwargs)\n",
    "        function_to_decorator(*args, **kwargs)\n",
    "    return inner_function\n",
    "\n",
    "@accepting_kwargs\n",
    "def function_with_args(*args, **kwargs):\n",
    "    print(\"Inside function args\", args)\n",
    "    print(\"kwargs..\", kwargs)\n",
    "\n"
   ]
  },
  {
   "cell_type": "code",
   "execution_count": 51,
   "id": "7b37cb3b",
   "metadata": {},
   "outputs": [
    {
     "name": "stdout",
     "output_type": "stream",
     "text": [
      "args values  (1, 2, 3)\n",
      "positional args  {'name': 'Nikita', 'address': 'Pune'}\n",
      "Inside function args (1, 2, 3)\n",
      "kwargs.. {'name': 'Nikita', 'address': 'Pune'}\n"
     ]
    }
   ],
   "source": [
    "function_with_args(1,2,3,name = \"Nikita\", address = \"Pune\")"
   ]
  },
  {
   "cell_type": "code",
   "execution_count": 52,
   "id": "6c48d602",
   "metadata": {},
   "outputs": [],
   "source": [
    "# passing argument to decorator\n",
    "\n",
    "def decorator_with_args(decorator_args1, decorator_args2, decorator_args3):\n",
    "    \n",
    "    def decorator(func):\n",
    "        def wrapper(function_args1, function_args2, function_args3):\n",
    "            print(\"The wrapper can access all the variables\\n\"\n",
    "                  \"\\t from the decorator maker:{0} {1} {2} \\n\"\n",
    "                  \"\\t from the function call:{3} {4} {5} \\n\"\n",
    "                 \"and pass them into decorator function\".format(decorator_args1,\n",
    "                                                                decorator_args2,\n",
    "                                                                decorator_args3,\n",
    "                                                                function_args1,\n",
    "                                                                function_args2,\n",
    "                                                                function_args3\n",
    "                                                                ))\n",
    "            return func(function_args1,function_args2,function_args3)\n",
    "        return wrapper\n",
    "    return decorator\n",
    "\n",
    "pandas = \"Pandas\"\n",
    "@decorator_with_args(pandas, \"Numpy\", \"Sciki-learn\")\n",
    "def actual_function(function_args1, function_args2, function_args3):\n",
    "    print(\"This is decorated function and it only knows its args: {0}, {1}, {2}\".format(\n",
    "        function_args1, function_args2, function_args3))\n"
   ]
  },
  {
   "cell_type": "code",
   "execution_count": 53,
   "id": "f57e38f0",
   "metadata": {},
   "outputs": [
    {
     "name": "stdout",
     "output_type": "stream",
     "text": [
      "The wrapper can access all the variables\n",
      "\t from the decorator maker:Pandas Numpy Sciki-learn \n",
      "\t from the function call:Joy Science Tools \n",
      "and pass them into decorator function\n",
      "This is decorated function and it only knows its args: Joy, Science, Tools\n"
     ]
    }
   ],
   "source": [
    "actual_function(\"Joy\", \"Science\", \"Tools\")"
   ]
  },
  {
   "cell_type": "code",
   "execution_count": 54,
   "id": "b673684c",
   "metadata": {},
   "outputs": [],
   "source": [
    "def count_digit(num):\n",
    "    count = 0\n",
    "    while num != 0:\n",
    "        num //=10\n",
    "        count += 1\n",
    "    \n",
    "    print(\"Number of Digits: \" + str(count))"
   ]
  },
  {
   "cell_type": "code",
   "execution_count": 55,
   "id": "0d5610de",
   "metadata": {},
   "outputs": [
    {
     "name": "stdout",
     "output_type": "stream",
     "text": [
      "Number of Digits: 5\n"
     ]
    }
   ],
   "source": [
    "count_digit(56732)"
   ]
  },
  {
   "cell_type": "code",
   "execution_count": 56,
   "id": "09475018",
   "metadata": {},
   "outputs": [
    {
     "name": "stdout",
     "output_type": "stream",
     "text": [
      "Number of Digits: 3\n"
     ]
    }
   ],
   "source": [
    "count_digit(342)"
   ]
  },
  {
   "cell_type": "code",
   "execution_count": 57,
   "id": "3930d48f",
   "metadata": {},
   "outputs": [],
   "source": [
    "# chaining of decorator\n",
    "\n",
    "from functools import wraps\n",
    "#code for testing decorator chaining\n",
    "\n",
    "def decor1(func):\n",
    "    def inner():\n",
    "        x = func()\n",
    "        print(\"X in decor 2nd\", x)\n",
    "        return x*x # logic doing mul\n",
    "    return inner\n",
    "\n",
    "def decor(func):\n",
    "    def inner():\n",
    "        x = func()\n",
    "        print(\"X in decor 1\", x)\n",
    "        return 2*x # multiply with 2\n",
    "    return inner\n",
    "\n",
    "@decor1\n",
    "@decor\n",
    "def num():\n",
    "    return 10"
   ]
  },
  {
   "cell_type": "code",
   "execution_count": 58,
   "id": "335610bd",
   "metadata": {},
   "outputs": [
    {
     "name": "stdout",
     "output_type": "stream",
     "text": [
      "X in decor 1 10\n",
      "X in decor 2nd 20\n"
     ]
    },
    {
     "data": {
      "text/plain": [
       "400"
      ]
     },
     "execution_count": 58,
     "metadata": {},
     "output_type": "execute_result"
    }
   ],
   "source": [
    "num()"
   ]
  },
  {
   "cell_type": "code",
   "execution_count": 59,
   "id": "9bfdf2c2",
   "metadata": {},
   "outputs": [
    {
     "name": "stdout",
     "output_type": "stream",
     "text": [
      "hi\n",
      "hello\n"
     ]
    },
    {
     "data": {
      "text/plain": [
       "'hello'"
      ]
     },
     "execution_count": 59,
     "metadata": {},
     "output_type": "execute_result"
    }
   ],
   "source": [
    "def simple_func(): # define\n",
    "    print(\"hi\")    # logic1\n",
    "    print('hello') # 2\n",
    "    return 'hello' # 3 manupulation\n",
    "                   # return computed\n",
    "                     # logic...\n",
    "simple_func()"
   ]
  },
  {
   "cell_type": "code",
   "execution_count": 60,
   "id": "318a32d2",
   "metadata": {},
   "outputs": [
    {
     "data": {
      "text/plain": [
       "function"
      ]
     },
     "execution_count": 60,
     "metadata": {},
     "output_type": "execute_result"
    }
   ],
   "source": [
    "type(simple_func)"
   ]
  },
  {
   "cell_type": "code",
   "execution_count": 61,
   "id": "a8e434a5",
   "metadata": {},
   "outputs": [],
   "source": [
    "def simple_generator():\n",
    "    print(\"hi\")\n",
    "    yield 'hello'\n",
    "    x = 10\n",
    "    y = x + 5\n",
    "    print(y)\n",
    "    yield \"Hello World\"\n",
    "    yield x"
   ]
  },
  {
   "cell_type": "code",
   "execution_count": 62,
   "id": "746228d5",
   "metadata": {},
   "outputs": [],
   "source": [
    "ret = simple_generator()\n"
   ]
  },
  {
   "cell_type": "code",
   "execution_count": 63,
   "id": "e28b8609",
   "metadata": {},
   "outputs": [
    {
     "data": {
      "text/plain": [
       "<generator object simple_generator at 0x7fbb809933b8>"
      ]
     },
     "execution_count": 63,
     "metadata": {},
     "output_type": "execute_result"
    }
   ],
   "source": [
    "ret"
   ]
  },
  {
   "cell_type": "code",
   "execution_count": 64,
   "id": "614fee53",
   "metadata": {},
   "outputs": [
    {
     "name": "stdout",
     "output_type": "stream",
     "text": [
      "hi\n",
      "hello\n",
      "15\n",
      "Hello World\n",
      "10\n"
     ]
    }
   ],
   "source": [
    "for val in ret:\n",
    "    print(val)"
   ]
  },
  {
   "cell_type": "code",
   "execution_count": 70,
   "id": "d407d73b",
   "metadata": {},
   "outputs": [
    {
     "data": {
      "text/plain": [
       "[]"
      ]
     },
     "execution_count": 70,
     "metadata": {},
     "output_type": "execute_result"
    }
   ],
   "source": [
    "list(ret)"
   ]
  },
  {
   "cell_type": "code",
   "execution_count": 66,
   "id": "2aa72391",
   "metadata": {},
   "outputs": [
    {
     "data": {
      "text/plain": [
       "[]"
      ]
     },
     "execution_count": 66,
     "metadata": {},
     "output_type": "execute_result"
    }
   ],
   "source": []
  },
  {
   "cell_type": "code",
   "execution_count": 67,
   "id": "b2215207",
   "metadata": {},
   "outputs": [
    {
     "ename": "StopIteration",
     "evalue": "",
     "output_type": "error",
     "traceback": [
      "\u001b[0;31m---------------------------------------------------------------------------\u001b[0m",
      "\u001b[0;31mStopIteration\u001b[0m                             Traceback (most recent call last)",
      "\u001b[0;32m<ipython-input-67-2216548e65ed>\u001b[0m in \u001b[0;36m<module>\u001b[0;34m\u001b[0m\n\u001b[0;32m----> 1\u001b[0;31m \u001b[0mnext\u001b[0m\u001b[0;34m(\u001b[0m\u001b[0mret\u001b[0m\u001b[0;34m)\u001b[0m\u001b[0;34m\u001b[0m\u001b[0;34m\u001b[0m\u001b[0m\n\u001b[0m",
      "\u001b[0;31mStopIteration\u001b[0m: "
     ]
    }
   ],
   "source": [
    "next(ret)"
   ]
  },
  {
   "cell_type": "code",
   "execution_count": 71,
   "id": "c6ab82c3",
   "metadata": {},
   "outputs": [],
   "source": [
    "def fib(n):\n",
    "    numbers = []\n",
    "    first,second = 0,1\n",
    "    while first < n:\n",
    "        numbers.append(first)\n",
    "        first, second = second, first+second\n",
    "    print(numbers)"
   ]
  },
  {
   "cell_type": "code",
   "execution_count": 72,
   "id": "c100703c",
   "metadata": {},
   "outputs": [
    {
     "name": "stdout",
     "output_type": "stream",
     "text": [
      "[0, 1, 1, 2, 3, 5, 8]\n"
     ]
    }
   ],
   "source": [
    "fib(10)"
   ]
  },
  {
   "cell_type": "code",
   "execution_count": 73,
   "id": "1b5ab646",
   "metadata": {},
   "outputs": [],
   "source": [
    "def fib(n):\n",
    "    first, second = 0,1\n",
    "    while n:\n",
    "        yield first\n",
    "        first, second = second, first+second\n",
    "        n -= 1\n"
   ]
  },
  {
   "cell_type": "code",
   "execution_count": 74,
   "id": "d8bda943",
   "metadata": {},
   "outputs": [],
   "source": [
    "ret = fib(50)\n"
   ]
  },
  {
   "cell_type": "code",
   "execution_count": 75,
   "id": "053d9335",
   "metadata": {},
   "outputs": [
    {
     "data": {
      "text/plain": [
       "<generator object fib at 0x7fbb80993360>"
      ]
     },
     "execution_count": 75,
     "metadata": {},
     "output_type": "execute_result"
    }
   ],
   "source": [
    "\n",
    "ret"
   ]
  },
  {
   "cell_type": "code",
   "execution_count": 76,
   "id": "40756a6f",
   "metadata": {},
   "outputs": [
    {
     "data": {
      "text/plain": [
       "0"
      ]
     },
     "execution_count": 76,
     "metadata": {},
     "output_type": "execute_result"
    }
   ],
   "source": [
    "next(ret)"
   ]
  },
  {
   "cell_type": "code",
   "execution_count": 77,
   "id": "934bcc08",
   "metadata": {},
   "outputs": [
    {
     "data": {
      "text/plain": [
       "1"
      ]
     },
     "execution_count": 77,
     "metadata": {},
     "output_type": "execute_result"
    }
   ],
   "source": [
    "next(ret)"
   ]
  },
  {
   "cell_type": "code",
   "execution_count": 78,
   "id": "b90462ee",
   "metadata": {},
   "outputs": [
    {
     "data": {
      "text/plain": [
       "[1,\n",
       " 2,\n",
       " 3,\n",
       " 5,\n",
       " 8,\n",
       " 13,\n",
       " 21,\n",
       " 34,\n",
       " 55,\n",
       " 89,\n",
       " 144,\n",
       " 233,\n",
       " 377,\n",
       " 610,\n",
       " 987,\n",
       " 1597,\n",
       " 2584,\n",
       " 4181,\n",
       " 6765,\n",
       " 10946,\n",
       " 17711,\n",
       " 28657,\n",
       " 46368,\n",
       " 75025,\n",
       " 121393,\n",
       " 196418,\n",
       " 317811,\n",
       " 514229,\n",
       " 832040,\n",
       " 1346269,\n",
       " 2178309,\n",
       " 3524578,\n",
       " 5702887,\n",
       " 9227465,\n",
       " 14930352,\n",
       " 24157817,\n",
       " 39088169,\n",
       " 63245986,\n",
       " 102334155,\n",
       " 165580141,\n",
       " 267914296,\n",
       " 433494437,\n",
       " 701408733,\n",
       " 1134903170,\n",
       " 1836311903,\n",
       " 2971215073,\n",
       " 4807526976,\n",
       " 7778742049]"
      ]
     },
     "execution_count": 78,
     "metadata": {},
     "output_type": "execute_result"
    }
   ],
   "source": [
    "list(ret)"
   ]
  },
  {
   "cell_type": "code",
   "execution_count": 79,
   "id": "62af7cfb",
   "metadata": {},
   "outputs": [],
   "source": [
    "import random\n",
    "name = [\"abc\", \"mno\", \"qrs\", \"wxy\"]\n",
    "designation = [\"mgr\", \"se\", \"sse\", \"admin\", \"hr\", \"fin\"]\n",
    "\n",
    "def people_list():\n",
    "    people = []\n",
    "    for i in range(100000):\n",
    "        person = {\"id\":i , \"name\":random.choice(name), \"designations\": random.choice(designation)}\n",
    "        people.append(person)\n",
    "    return people\n",
    "\n",
    "def people_generator():\n",
    "    people = []\n",
    "    for i in range(100000):\n",
    "        person = {\"id\":i , \"name\":random.choice(name), \"designations\": random.choice(designation)}\n",
    "        people.append(person)\n",
    "    yield people"
   ]
  },
  {
   "cell_type": "code",
   "execution_count": 80,
   "id": "a064f035",
   "metadata": {},
   "outputs": [
    {
     "data": {
      "text/plain": [
       "[{'id': 0, 'name': 'mno', 'designations': 'fin'},\n",
       " {'id': 1, 'name': 'qrs', 'designations': 'fin'}]"
      ]
     },
     "execution_count": 80,
     "metadata": {},
     "output_type": "execute_result"
    }
   ],
   "source": [
    "p = people_list()\n",
    "p[:2]"
   ]
  },
  {
   "cell_type": "code",
   "execution_count": 81,
   "id": "63dffbfe",
   "metadata": {},
   "outputs": [],
   "source": [
    "ret = people_generator()"
   ]
  },
  {
   "cell_type": "code",
   "execution_count": 82,
   "id": "df80fcdc",
   "metadata": {},
   "outputs": [
    {
     "data": {
      "text/plain": [
       "<generator object people_generator at 0x7fbb809934c0>"
      ]
     },
     "execution_count": 82,
     "metadata": {},
     "output_type": "execute_result"
    }
   ],
   "source": [
    "ret"
   ]
  },
  {
   "cell_type": "code",
   "execution_count": 83,
   "id": "507a0daf",
   "metadata": {},
   "outputs": [
    {
     "data": {
      "text/plain": [
       "[{'id': 0, 'name': 'wxy', 'designations': 'fin'},\n",
       " {'id': 1, 'name': 'wxy', 'designations': 'hr'},\n",
       " {'id': 2, 'name': 'abc', 'designations': 'se'},\n",
       " {'id': 3, 'name': 'wxy', 'designations': 'hr'},\n",
       " {'id': 4, 'name': 'qrs', 'designations': 'mgr'},\n",
       " {'id': 5, 'name': 'abc', 'designations': 'se'},\n",
       " {'id': 6, 'name': 'abc', 'designations': 'mgr'},\n",
       " {'id': 7, 'name': 'mno', 'designations': 'sse'},\n",
       " {'id': 8, 'name': 'wxy', 'designations': 'sse'},\n",
       " {'id': 9, 'name': 'mno', 'designations': 'hr'},\n",
       " {'id': 10, 'name': 'abc', 'designations': 'mgr'},\n",
       " {'id': 11, 'name': 'qrs', 'designations': 'sse'},\n",
       " {'id': 12, 'name': 'wxy', 'designations': 'fin'},\n",
       " {'id': 13, 'name': 'qrs', 'designations': 'se'},\n",
       " {'id': 14, 'name': 'mno', 'designations': 'admin'},\n",
       " {'id': 15, 'name': 'mno', 'designations': 'admin'},\n",
       " {'id': 16, 'name': 'wxy', 'designations': 'hr'},\n",
       " {'id': 17, 'name': 'mno', 'designations': 'sse'},\n",
       " {'id': 18, 'name': 'abc', 'designations': 'mgr'},\n",
       " {'id': 19, 'name': 'qrs', 'designations': 'mgr'},\n",
       " {'id': 20, 'name': 'wxy', 'designations': 'sse'},\n",
       " {'id': 21, 'name': 'qrs', 'designations': 'se'},\n",
       " {'id': 22, 'name': 'qrs', 'designations': 'admin'},\n",
       " {'id': 23, 'name': 'mno', 'designations': 'sse'},\n",
       " {'id': 24, 'name': 'wxy', 'designations': 'hr'},\n",
       " {'id': 25, 'name': 'wxy', 'designations': 'sse'},\n",
       " {'id': 26, 'name': 'abc', 'designations': 'hr'},\n",
       " {'id': 27, 'name': 'wxy', 'designations': 'fin'},\n",
       " {'id': 28, 'name': 'wxy', 'designations': 'admin'},\n",
       " {'id': 29, 'name': 'mno', 'designations': 'sse'},\n",
       " {'id': 30, 'name': 'mno', 'designations': 'admin'},\n",
       " {'id': 31, 'name': 'abc', 'designations': 'admin'},\n",
       " {'id': 32, 'name': 'abc', 'designations': 'fin'},\n",
       " {'id': 33, 'name': 'mno', 'designations': 'sse'},\n",
       " {'id': 34, 'name': 'qrs', 'designations': 'fin'},\n",
       " {'id': 35, 'name': 'abc', 'designations': 'se'},\n",
       " {'id': 36, 'name': 'wxy', 'designations': 'fin'},\n",
       " {'id': 37, 'name': 'mno', 'designations': 'sse'},\n",
       " {'id': 38, 'name': 'qrs', 'designations': 'fin'},\n",
       " {'id': 39, 'name': 'mno', 'designations': 'sse'},\n",
       " {'id': 40, 'name': 'wxy', 'designations': 'se'},\n",
       " {'id': 41, 'name': 'mno', 'designations': 'hr'},\n",
       " {'id': 42, 'name': 'wxy', 'designations': 'fin'},\n",
       " {'id': 43, 'name': 'mno', 'designations': 'se'},\n",
       " {'id': 44, 'name': 'mno', 'designations': 'se'},\n",
       " {'id': 45, 'name': 'mno', 'designations': 'mgr'},\n",
       " {'id': 46, 'name': 'mno', 'designations': 'hr'},\n",
       " {'id': 47, 'name': 'wxy', 'designations': 'sse'},\n",
       " {'id': 48, 'name': 'wxy', 'designations': 'admin'},\n",
       " {'id': 49, 'name': 'mno', 'designations': 'fin'},\n",
       " {'id': 50, 'name': 'mno', 'designations': 'sse'},\n",
       " {'id': 51, 'name': 'mno', 'designations': 'mgr'},\n",
       " {'id': 52, 'name': 'abc', 'designations': 'hr'},\n",
       " {'id': 53, 'name': 'abc', 'designations': 'admin'},\n",
       " {'id': 54, 'name': 'wxy', 'designations': 'se'},\n",
       " {'id': 55, 'name': 'abc', 'designations': 'mgr'},\n",
       " {'id': 56, 'name': 'mno', 'designations': 'se'},\n",
       " {'id': 57, 'name': 'wxy', 'designations': 'fin'},\n",
       " {'id': 58, 'name': 'abc', 'designations': 'admin'},\n",
       " {'id': 59, 'name': 'mno', 'designations': 'fin'},\n",
       " {'id': 60, 'name': 'abc', 'designations': 'admin'},\n",
       " {'id': 61, 'name': 'abc', 'designations': 'mgr'},\n",
       " {'id': 62, 'name': 'qrs', 'designations': 'sse'},\n",
       " {'id': 63, 'name': 'wxy', 'designations': 'sse'},\n",
       " {'id': 64, 'name': 'qrs', 'designations': 'admin'},\n",
       " {'id': 65, 'name': 'abc', 'designations': 'se'},\n",
       " {'id': 66, 'name': 'qrs', 'designations': 'admin'},\n",
       " {'id': 67, 'name': 'mno', 'designations': 'se'},\n",
       " {'id': 68, 'name': 'qrs', 'designations': 'hr'},\n",
       " {'id': 69, 'name': 'wxy', 'designations': 'se'},\n",
       " {'id': 70, 'name': 'mno', 'designations': 'sse'},\n",
       " {'id': 71, 'name': 'mno', 'designations': 'fin'},\n",
       " {'id': 72, 'name': 'wxy', 'designations': 'mgr'},\n",
       " {'id': 73, 'name': 'mno', 'designations': 'hr'},\n",
       " {'id': 74, 'name': 'qrs', 'designations': 'se'},\n",
       " {'id': 75, 'name': 'mno', 'designations': 'se'},\n",
       " {'id': 76, 'name': 'wxy', 'designations': 'mgr'},\n",
       " {'id': 77, 'name': 'wxy', 'designations': 'sse'},\n",
       " {'id': 78, 'name': 'abc', 'designations': 'se'},\n",
       " {'id': 79, 'name': 'qrs', 'designations': 'hr'},\n",
       " {'id': 80, 'name': 'abc', 'designations': 'admin'},\n",
       " {'id': 81, 'name': 'mno', 'designations': 'admin'},\n",
       " {'id': 82, 'name': 'qrs', 'designations': 'sse'},\n",
       " {'id': 83, 'name': 'qrs', 'designations': 'se'},\n",
       " {'id': 84, 'name': 'wxy', 'designations': 'se'},\n",
       " {'id': 85, 'name': 'wxy', 'designations': 'admin'},\n",
       " {'id': 86, 'name': 'wxy', 'designations': 'se'},\n",
       " {'id': 87, 'name': 'abc', 'designations': 'se'},\n",
       " {'id': 88, 'name': 'mno', 'designations': 'admin'},\n",
       " {'id': 89, 'name': 'qrs', 'designations': 'hr'},\n",
       " {'id': 90, 'name': 'mno', 'designations': 'hr'},\n",
       " {'id': 91, 'name': 'abc', 'designations': 'admin'},\n",
       " {'id': 92, 'name': 'mno', 'designations': 'hr'},\n",
       " {'id': 93, 'name': 'wxy', 'designations': 'admin'},\n",
       " {'id': 94, 'name': 'mno', 'designations': 'admin'},\n",
       " {'id': 95, 'name': 'wxy', 'designations': 'fin'},\n",
       " {'id': 96, 'name': 'qrs', 'designations': 'fin'},\n",
       " {'id': 97, 'name': 'wxy', 'designations': 'hr'},\n",
       " {'id': 98, 'name': 'qrs', 'designations': 'sse'},\n",
       " {'id': 99, 'name': 'mno', 'designations': 'se'},\n",
       " {'id': 100, 'name': 'wxy', 'designations': 'hr'},\n",
       " {'id': 101, 'name': 'wxy', 'designations': 'se'},\n",
       " {'id': 102, 'name': 'abc', 'designations': 'hr'},\n",
       " {'id': 103, 'name': 'abc', 'designations': 'mgr'},\n",
       " {'id': 104, 'name': 'abc', 'designations': 'sse'},\n",
       " {'id': 105, 'name': 'mno', 'designations': 'mgr'},\n",
       " {'id': 106, 'name': 'wxy', 'designations': 'se'},\n",
       " {'id': 107, 'name': 'wxy', 'designations': 'hr'},\n",
       " {'id': 108, 'name': 'qrs', 'designations': 'hr'},\n",
       " {'id': 109, 'name': 'wxy', 'designations': 'mgr'},\n",
       " {'id': 110, 'name': 'abc', 'designations': 'fin'},\n",
       " {'id': 111, 'name': 'qrs', 'designations': 'sse'},\n",
       " {'id': 112, 'name': 'qrs', 'designations': 'mgr'},\n",
       " {'id': 113, 'name': 'wxy', 'designations': 'se'},\n",
       " {'id': 114, 'name': 'mno', 'designations': 'hr'},\n",
       " {'id': 115, 'name': 'abc', 'designations': 'sse'},\n",
       " {'id': 116, 'name': 'qrs', 'designations': 'hr'},\n",
       " {'id': 117, 'name': 'qrs', 'designations': 'sse'},\n",
       " {'id': 118, 'name': 'mno', 'designations': 'hr'},\n",
       " {'id': 119, 'name': 'qrs', 'designations': 'fin'},\n",
       " {'id': 120, 'name': 'mno', 'designations': 'se'},\n",
       " {'id': 121, 'name': 'qrs', 'designations': 'mgr'},\n",
       " {'id': 122, 'name': 'mno', 'designations': 'admin'},\n",
       " {'id': 123, 'name': 'wxy', 'designations': 'admin'},\n",
       " {'id': 124, 'name': 'wxy', 'designations': 'se'},\n",
       " {'id': 125, 'name': 'qrs', 'designations': 'hr'},\n",
       " {'id': 126, 'name': 'qrs', 'designations': 'fin'},\n",
       " {'id': 127, 'name': 'abc', 'designations': 'fin'},\n",
       " {'id': 128, 'name': 'abc', 'designations': 'sse'},\n",
       " {'id': 129, 'name': 'mno', 'designations': 'mgr'},\n",
       " {'id': 130, 'name': 'qrs', 'designations': 'sse'},\n",
       " {'id': 131, 'name': 'abc', 'designations': 'fin'},\n",
       " {'id': 132, 'name': 'qrs', 'designations': 'se'},\n",
       " {'id': 133, 'name': 'qrs', 'designations': 'admin'},\n",
       " {'id': 134, 'name': 'wxy', 'designations': 'mgr'},\n",
       " {'id': 135, 'name': 'mno', 'designations': 'mgr'},\n",
       " {'id': 136, 'name': 'wxy', 'designations': 'sse'},\n",
       " {'id': 137, 'name': 'mno', 'designations': 'mgr'},\n",
       " {'id': 138, 'name': 'wxy', 'designations': 'hr'},\n",
       " {'id': 139, 'name': 'abc', 'designations': 'admin'},\n",
       " {'id': 140, 'name': 'wxy', 'designations': 'se'},\n",
       " {'id': 141, 'name': 'mno', 'designations': 'fin'},\n",
       " {'id': 142, 'name': 'wxy', 'designations': 'fin'},\n",
       " {'id': 143, 'name': 'abc', 'designations': 'sse'},\n",
       " {'id': 144, 'name': 'abc', 'designations': 'sse'},\n",
       " {'id': 145, 'name': 'wxy', 'designations': 'admin'},\n",
       " {'id': 146, 'name': 'abc', 'designations': 'sse'},\n",
       " {'id': 147, 'name': 'mno', 'designations': 'admin'},\n",
       " {'id': 148, 'name': 'qrs', 'designations': 'mgr'},\n",
       " {'id': 149, 'name': 'mno', 'designations': 'fin'},\n",
       " {'id': 150, 'name': 'abc', 'designations': 'hr'},\n",
       " {'id': 151, 'name': 'qrs', 'designations': 'admin'},\n",
       " {'id': 152, 'name': 'mno', 'designations': 'sse'},\n",
       " {'id': 153, 'name': 'wxy', 'designations': 'mgr'},\n",
       " {'id': 154, 'name': 'mno', 'designations': 'sse'},\n",
       " {'id': 155, 'name': 'abc', 'designations': 'sse'},\n",
       " {'id': 156, 'name': 'wxy', 'designations': 'hr'},\n",
       " {'id': 157, 'name': 'mno', 'designations': 'se'},\n",
       " {'id': 158, 'name': 'qrs', 'designations': 'se'},\n",
       " {'id': 159, 'name': 'qrs', 'designations': 'admin'},\n",
       " {'id': 160, 'name': 'mno', 'designations': 'se'},\n",
       " {'id': 161, 'name': 'qrs', 'designations': 'mgr'},\n",
       " {'id': 162, 'name': 'wxy', 'designations': 'fin'},\n",
       " {'id': 163, 'name': 'abc', 'designations': 'se'},\n",
       " {'id': 164, 'name': 'mno', 'designations': 'fin'},\n",
       " {'id': 165, 'name': 'wxy', 'designations': 'admin'},\n",
       " {'id': 166, 'name': 'qrs', 'designations': 'fin'},\n",
       " {'id': 167, 'name': 'wxy', 'designations': 'sse'},\n",
       " {'id': 168, 'name': 'mno', 'designations': 'fin'},\n",
       " {'id': 169, 'name': 'wxy', 'designations': 'se'},\n",
       " {'id': 170, 'name': 'wxy', 'designations': 'fin'},\n",
       " {'id': 171, 'name': 'abc', 'designations': 'mgr'},\n",
       " {'id': 172, 'name': 'mno', 'designations': 'sse'},\n",
       " {'id': 173, 'name': 'abc', 'designations': 'mgr'},\n",
       " {'id': 174, 'name': 'mno', 'designations': 'se'},\n",
       " {'id': 175, 'name': 'abc', 'designations': 'admin'},\n",
       " {'id': 176, 'name': 'wxy', 'designations': 'hr'},\n",
       " {'id': 177, 'name': 'abc', 'designations': 'fin'},\n",
       " {'id': 178, 'name': 'mno', 'designations': 'hr'},\n",
       " {'id': 179, 'name': 'qrs', 'designations': 'se'},\n",
       " {'id': 180, 'name': 'qrs', 'designations': 'se'},\n",
       " {'id': 181, 'name': 'abc', 'designations': 'mgr'},\n",
       " {'id': 182, 'name': 'abc', 'designations': 'sse'},\n",
       " {'id': 183, 'name': 'qrs', 'designations': 'sse'},\n",
       " {'id': 184, 'name': 'qrs', 'designations': 'mgr'},\n",
       " {'id': 185, 'name': 'wxy', 'designations': 'mgr'},\n",
       " {'id': 186, 'name': 'qrs', 'designations': 'admin'},\n",
       " {'id': 187, 'name': 'wxy', 'designations': 'hr'},\n",
       " {'id': 188, 'name': 'mno', 'designations': 'hr'},\n",
       " {'id': 189, 'name': 'qrs', 'designations': 'admin'},\n",
       " {'id': 190, 'name': 'wxy', 'designations': 'hr'},\n",
       " {'id': 191, 'name': 'abc', 'designations': 'mgr'},\n",
       " {'id': 192, 'name': 'wxy', 'designations': 'se'},\n",
       " {'id': 193, 'name': 'qrs', 'designations': 'se'},\n",
       " {'id': 194, 'name': 'wxy', 'designations': 'hr'},\n",
       " {'id': 195, 'name': 'mno', 'designations': 'se'},\n",
       " {'id': 196, 'name': 'abc', 'designations': 'admin'},\n",
       " {'id': 197, 'name': 'qrs', 'designations': 'sse'},\n",
       " {'id': 198, 'name': 'qrs', 'designations': 'se'},\n",
       " {'id': 199, 'name': 'wxy', 'designations': 'sse'},\n",
       " {'id': 200, 'name': 'wxy', 'designations': 'mgr'},\n",
       " {'id': 201, 'name': 'abc', 'designations': 'mgr'},\n",
       " {'id': 202, 'name': 'abc', 'designations': 'mgr'},\n",
       " {'id': 203, 'name': 'qrs', 'designations': 'fin'},\n",
       " {'id': 204, 'name': 'abc', 'designations': 'admin'},\n",
       " {'id': 205, 'name': 'wxy', 'designations': 'mgr'},\n",
       " {'id': 206, 'name': 'abc', 'designations': 'se'},\n",
       " {'id': 207, 'name': 'abc', 'designations': 'se'},\n",
       " {'id': 208, 'name': 'qrs', 'designations': 'mgr'},\n",
       " {'id': 209, 'name': 'wxy', 'designations': 'se'},\n",
       " {'id': 210, 'name': 'mno', 'designations': 'hr'},\n",
       " {'id': 211, 'name': 'mno', 'designations': 'fin'},\n",
       " {'id': 212, 'name': 'qrs', 'designations': 'hr'},\n",
       " {'id': 213, 'name': 'abc', 'designations': 'mgr'},\n",
       " {'id': 214, 'name': 'abc', 'designations': 'se'},\n",
       " {'id': 215, 'name': 'abc', 'designations': 'se'},\n",
       " {'id': 216, 'name': 'wxy', 'designations': 'mgr'},\n",
       " {'id': 217, 'name': 'abc', 'designations': 'sse'},\n",
       " {'id': 218, 'name': 'abc', 'designations': 'admin'},\n",
       " {'id': 219, 'name': 'mno', 'designations': 'fin'},\n",
       " {'id': 220, 'name': 'abc', 'designations': 'se'},\n",
       " {'id': 221, 'name': 'mno', 'designations': 'se'},\n",
       " {'id': 222, 'name': 'mno', 'designations': 'hr'},\n",
       " {'id': 223, 'name': 'wxy', 'designations': 'sse'},\n",
       " {'id': 224, 'name': 'abc', 'designations': 'sse'},\n",
       " {'id': 225, 'name': 'mno', 'designations': 'hr'},\n",
       " {'id': 226, 'name': 'abc', 'designations': 'hr'},\n",
       " {'id': 227, 'name': 'mno', 'designations': 'sse'},\n",
       " {'id': 228, 'name': 'abc', 'designations': 'hr'},\n",
       " {'id': 229, 'name': 'mno', 'designations': 'se'},\n",
       " {'id': 230, 'name': 'abc', 'designations': 'hr'},\n",
       " {'id': 231, 'name': 'wxy', 'designations': 'fin'},\n",
       " {'id': 232, 'name': 'wxy', 'designations': 'mgr'},\n",
       " {'id': 233, 'name': 'abc', 'designations': 'hr'},\n",
       " {'id': 234, 'name': 'qrs', 'designations': 'fin'},\n",
       " {'id': 235, 'name': 'mno', 'designations': 'sse'},\n",
       " {'id': 236, 'name': 'wxy', 'designations': 'fin'},\n",
       " {'id': 237, 'name': 'mno', 'designations': 'hr'},\n",
       " {'id': 238, 'name': 'mno', 'designations': 'admin'},\n",
       " {'id': 239, 'name': 'wxy', 'designations': 'hr'},\n",
       " {'id': 240, 'name': 'mno', 'designations': 'admin'},\n",
       " {'id': 241, 'name': 'qrs', 'designations': 'admin'},\n",
       " {'id': 242, 'name': 'mno', 'designations': 'hr'},\n",
       " {'id': 243, 'name': 'qrs', 'designations': 'mgr'},\n",
       " {'id': 244, 'name': 'wxy', 'designations': 'mgr'},\n",
       " {'id': 245, 'name': 'mno', 'designations': 'hr'},\n",
       " {'id': 246, 'name': 'mno', 'designations': 'se'},\n",
       " {'id': 247, 'name': 'wxy', 'designations': 'se'},\n",
       " {'id': 248, 'name': 'abc', 'designations': 'sse'},\n",
       " {'id': 249, 'name': 'wxy', 'designations': 'admin'},\n",
       " {'id': 250, 'name': 'wxy', 'designations': 'fin'},\n",
       " {'id': 251, 'name': 'mno', 'designations': 'mgr'},\n",
       " {'id': 252, 'name': 'qrs', 'designations': 'admin'},\n",
       " {'id': 253, 'name': 'qrs', 'designations': 'hr'},\n",
       " {'id': 254, 'name': 'mno', 'designations': 'mgr'},\n",
       " {'id': 255, 'name': 'mno', 'designations': 'hr'},\n",
       " {'id': 256, 'name': 'abc', 'designations': 'fin'},\n",
       " {'id': 257, 'name': 'abc', 'designations': 'mgr'},\n",
       " {'id': 258, 'name': 'abc', 'designations': 'hr'},\n",
       " {'id': 259, 'name': 'wxy', 'designations': 'sse'},\n",
       " {'id': 260, 'name': 'abc', 'designations': 'hr'},\n",
       " {'id': 261, 'name': 'mno', 'designations': 'se'},\n",
       " {'id': 262, 'name': 'qrs', 'designations': 'hr'},\n",
       " {'id': 263, 'name': 'qrs', 'designations': 'admin'},\n",
       " {'id': 264, 'name': 'qrs', 'designations': 'fin'},\n",
       " {'id': 265, 'name': 'mno', 'designations': 'se'},\n",
       " {'id': 266, 'name': 'mno', 'designations': 'fin'},\n",
       " {'id': 267, 'name': 'wxy', 'designations': 'fin'},\n",
       " {'id': 268, 'name': 'mno', 'designations': 'se'},\n",
       " {'id': 269, 'name': 'wxy', 'designations': 'se'},\n",
       " {'id': 270, 'name': 'qrs', 'designations': 'sse'},\n",
       " {'id': 271, 'name': 'qrs', 'designations': 'sse'},\n",
       " {'id': 272, 'name': 'abc', 'designations': 'se'},\n",
       " {'id': 273, 'name': 'mno', 'designations': 'hr'},\n",
       " {'id': 274, 'name': 'mno', 'designations': 'fin'},\n",
       " {'id': 275, 'name': 'qrs', 'designations': 'mgr'},\n",
       " {'id': 276, 'name': 'mno', 'designations': 'mgr'},\n",
       " {'id': 277, 'name': 'qrs', 'designations': 'fin'},\n",
       " {'id': 278, 'name': 'qrs', 'designations': 'sse'},\n",
       " {'id': 279, 'name': 'wxy', 'designations': 'fin'},\n",
       " {'id': 280, 'name': 'mno', 'designations': 'sse'},\n",
       " {'id': 281, 'name': 'qrs', 'designations': 'mgr'},\n",
       " {'id': 282, 'name': 'qrs', 'designations': 'se'},\n",
       " {'id': 283, 'name': 'mno', 'designations': 'se'},\n",
       " {'id': 284, 'name': 'qrs', 'designations': 'fin'},\n",
       " {'id': 285, 'name': 'qrs', 'designations': 'se'},\n",
       " {'id': 286, 'name': 'mno', 'designations': 'admin'},\n",
       " {'id': 287, 'name': 'qrs', 'designations': 'sse'},\n",
       " {'id': 288, 'name': 'qrs', 'designations': 'mgr'},\n",
       " {'id': 289, 'name': 'abc', 'designations': 'se'},\n",
       " {'id': 290, 'name': 'qrs', 'designations': 'mgr'},\n",
       " {'id': 291, 'name': 'wxy', 'designations': 'se'},\n",
       " {'id': 292, 'name': 'mno', 'designations': 'admin'},\n",
       " {'id': 293, 'name': 'abc', 'designations': 'mgr'},\n",
       " {'id': 294, 'name': 'qrs', 'designations': 'admin'},\n",
       " {'id': 295, 'name': 'wxy', 'designations': 'se'},\n",
       " {'id': 296, 'name': 'mno', 'designations': 'se'},\n",
       " {'id': 297, 'name': 'mno', 'designations': 'hr'},\n",
       " {'id': 298, 'name': 'wxy', 'designations': 'mgr'},\n",
       " {'id': 299, 'name': 'qrs', 'designations': 'mgr'},\n",
       " {'id': 300, 'name': 'wxy', 'designations': 'mgr'},\n",
       " {'id': 301, 'name': 'qrs', 'designations': 'se'},\n",
       " {'id': 302, 'name': 'mno', 'designations': 'sse'},\n",
       " {'id': 303, 'name': 'wxy', 'designations': 'se'},\n",
       " {'id': 304, 'name': 'wxy', 'designations': 'hr'},\n",
       " {'id': 305, 'name': 'mno', 'designations': 'sse'},\n",
       " {'id': 306, 'name': 'qrs', 'designations': 'hr'},\n",
       " {'id': 307, 'name': 'wxy', 'designations': 'fin'},\n",
       " {'id': 308, 'name': 'qrs', 'designations': 'fin'},\n",
       " {'id': 309, 'name': 'qrs', 'designations': 'fin'},\n",
       " {'id': 310, 'name': 'abc', 'designations': 'se'},\n",
       " {'id': 311, 'name': 'qrs', 'designations': 'admin'},\n",
       " {'id': 312, 'name': 'qrs', 'designations': 'se'},\n",
       " {'id': 313, 'name': 'abc', 'designations': 'sse'},\n",
       " {'id': 314, 'name': 'abc', 'designations': 'se'},\n",
       " {'id': 315, 'name': 'wxy', 'designations': 'fin'},\n",
       " {'id': 316, 'name': 'abc', 'designations': 'mgr'},\n",
       " {'id': 317, 'name': 'wxy', 'designations': 'se'},\n",
       " {'id': 318, 'name': 'qrs', 'designations': 'fin'},\n",
       " {'id': 319, 'name': 'mno', 'designations': 'se'},\n",
       " {'id': 320, 'name': 'wxy', 'designations': 'mgr'},\n",
       " {'id': 321, 'name': 'abc', 'designations': 'admin'},\n",
       " {'id': 322, 'name': 'wxy', 'designations': 'se'},\n",
       " {'id': 323, 'name': 'qrs', 'designations': 'fin'},\n",
       " {'id': 324, 'name': 'mno', 'designations': 'hr'},\n",
       " {'id': 325, 'name': 'mno', 'designations': 'hr'},\n",
       " {'id': 326, 'name': 'mno', 'designations': 'se'},\n",
       " {'id': 327, 'name': 'abc', 'designations': 'hr'},\n",
       " {'id': 328, 'name': 'wxy', 'designations': 'admin'},\n",
       " {'id': 329, 'name': 'mno', 'designations': 'mgr'},\n",
       " {'id': 330, 'name': 'abc', 'designations': 'sse'},\n",
       " {'id': 331, 'name': 'qrs', 'designations': 'admin'},\n",
       " {'id': 332, 'name': 'qrs', 'designations': 'admin'},\n",
       " {'id': 333, 'name': 'qrs', 'designations': 'se'},\n",
       " {'id': 334, 'name': 'mno', 'designations': 'se'},\n",
       " {'id': 335, 'name': 'mno', 'designations': 'se'},\n",
       " {'id': 336, 'name': 'wxy', 'designations': 'fin'},\n",
       " {'id': 337, 'name': 'wxy', 'designations': 'se'},\n",
       " {'id': 338, 'name': 'mno', 'designations': 'mgr'},\n",
       " {'id': 339, 'name': 'qrs', 'designations': 'mgr'},\n",
       " {'id': 340, 'name': 'mno', 'designations': 'hr'},\n",
       " {'id': 341, 'name': 'wxy', 'designations': 'hr'},\n",
       " {'id': 342, 'name': 'abc', 'designations': 'fin'},\n",
       " {'id': 343, 'name': 'wxy', 'designations': 'hr'},\n",
       " {'id': 344, 'name': 'wxy', 'designations': 'admin'},\n",
       " {'id': 345, 'name': 'qrs', 'designations': 'mgr'},\n",
       " {'id': 346, 'name': 'qrs', 'designations': 'mgr'},\n",
       " {'id': 347, 'name': 'mno', 'designations': 'hr'},\n",
       " {'id': 348, 'name': 'abc', 'designations': 'fin'},\n",
       " {'id': 349, 'name': 'mno', 'designations': 'sse'},\n",
       " {'id': 350, 'name': 'qrs', 'designations': 'sse'},\n",
       " {'id': 351, 'name': 'abc', 'designations': 'fin'},\n",
       " {'id': 352, 'name': 'abc', 'designations': 'fin'},\n",
       " {'id': 353, 'name': 'mno', 'designations': 'mgr'},\n",
       " {'id': 354, 'name': 'abc', 'designations': 'sse'},\n",
       " {'id': 355, 'name': 'wxy', 'designations': 'se'},\n",
       " {'id': 356, 'name': 'abc', 'designations': 'fin'},\n",
       " {'id': 357, 'name': 'abc', 'designations': 'admin'},\n",
       " {'id': 358, 'name': 'wxy', 'designations': 'sse'},\n",
       " {'id': 359, 'name': 'qrs', 'designations': 'fin'},\n",
       " {'id': 360, 'name': 'wxy', 'designations': 'mgr'},\n",
       " {'id': 361, 'name': 'qrs', 'designations': 'admin'},\n",
       " {'id': 362, 'name': 'abc', 'designations': 'mgr'},\n",
       " {'id': 363, 'name': 'abc', 'designations': 'se'},\n",
       " {'id': 364, 'name': 'wxy', 'designations': 'se'},\n",
       " {'id': 365, 'name': 'abc', 'designations': 'admin'},\n",
       " {'id': 366, 'name': 'abc', 'designations': 'mgr'},\n",
       " {'id': 367, 'name': 'abc', 'designations': 'admin'},\n",
       " {'id': 368, 'name': 'wxy', 'designations': 'hr'},\n",
       " {'id': 369, 'name': 'qrs', 'designations': 'admin'},\n",
       " {'id': 370, 'name': 'qrs', 'designations': 'se'},\n",
       " {'id': 371, 'name': 'abc', 'designations': 'hr'},\n",
       " {'id': 372, 'name': 'mno', 'designations': 'se'},\n",
       " {'id': 373, 'name': 'wxy', 'designations': 'se'},\n",
       " {'id': 374, 'name': 'wxy', 'designations': 'sse'},\n",
       " {'id': 375, 'name': 'wxy', 'designations': 'se'},\n",
       " {'id': 376, 'name': 'wxy', 'designations': 'sse'},\n",
       " {'id': 377, 'name': 'wxy', 'designations': 'mgr'},\n",
       " {'id': 378, 'name': 'wxy', 'designations': 'sse'},\n",
       " {'id': 379, 'name': 'wxy', 'designations': 'mgr'},\n",
       " {'id': 380, 'name': 'abc', 'designations': 'se'},\n",
       " {'id': 381, 'name': 'mno', 'designations': 'mgr'},\n",
       " {'id': 382, 'name': 'abc', 'designations': 'mgr'},\n",
       " {'id': 383, 'name': 'abc', 'designations': 'se'},\n",
       " {'id': 384, 'name': 'mno', 'designations': 'se'},\n",
       " {'id': 385, 'name': 'qrs', 'designations': 'sse'},\n",
       " {'id': 386, 'name': 'abc', 'designations': 'sse'},\n",
       " {'id': 387, 'name': 'wxy', 'designations': 'hr'},\n",
       " {'id': 388, 'name': 'qrs', 'designations': 'fin'},\n",
       " {'id': 389, 'name': 'mno', 'designations': 'hr'},\n",
       " {'id': 390, 'name': 'abc', 'designations': 'admin'},\n",
       " {'id': 391, 'name': 'mno', 'designations': 'admin'},\n",
       " {'id': 392, 'name': 'qrs', 'designations': 'sse'},\n",
       " {'id': 393, 'name': 'abc', 'designations': 'mgr'},\n",
       " {'id': 394, 'name': 'wxy', 'designations': 'admin'},\n",
       " {'id': 395, 'name': 'mno', 'designations': 'hr'},\n",
       " {'id': 396, 'name': 'wxy', 'designations': 'hr'},\n",
       " {'id': 397, 'name': 'mno', 'designations': 'sse'},\n",
       " {'id': 398, 'name': 'mno', 'designations': 'sse'},\n",
       " {'id': 399, 'name': 'wxy', 'designations': 'mgr'},\n",
       " {'id': 400, 'name': 'abc', 'designations': 'fin'},\n",
       " {'id': 401, 'name': 'abc', 'designations': 'se'},\n",
       " {'id': 402, 'name': 'abc', 'designations': 'se'},\n",
       " {'id': 403, 'name': 'abc', 'designations': 'mgr'},\n",
       " {'id': 404, 'name': 'mno', 'designations': 'mgr'},\n",
       " {'id': 405, 'name': 'mno', 'designations': 'sse'},\n",
       " {'id': 406, 'name': 'abc', 'designations': 'admin'},\n",
       " {'id': 407, 'name': 'qrs', 'designations': 'fin'},\n",
       " {'id': 408, 'name': 'mno', 'designations': 'sse'},\n",
       " {'id': 409, 'name': 'wxy', 'designations': 'sse'},\n",
       " {'id': 410, 'name': 'qrs', 'designations': 'sse'},\n",
       " {'id': 411, 'name': 'mno', 'designations': 'fin'},\n",
       " {'id': 412, 'name': 'qrs', 'designations': 'sse'},\n",
       " {'id': 413, 'name': 'mno', 'designations': 'sse'},\n",
       " {'id': 414, 'name': 'wxy', 'designations': 'fin'},\n",
       " {'id': 415, 'name': 'qrs', 'designations': 'admin'},\n",
       " {'id': 416, 'name': 'wxy', 'designations': 'sse'},\n",
       " {'id': 417, 'name': 'abc', 'designations': 'admin'},\n",
       " {'id': 418, 'name': 'wxy', 'designations': 'mgr'},\n",
       " {'id': 419, 'name': 'mno', 'designations': 'fin'},\n",
       " {'id': 420, 'name': 'abc', 'designations': 'fin'},\n",
       " {'id': 421, 'name': 'wxy', 'designations': 'fin'},\n",
       " {'id': 422, 'name': 'mno', 'designations': 'se'},\n",
       " {'id': 423, 'name': 'wxy', 'designations': 'mgr'},\n",
       " {'id': 424, 'name': 'mno', 'designations': 'fin'},\n",
       " {'id': 425, 'name': 'mno', 'designations': 'fin'},\n",
       " {'id': 426, 'name': 'qrs', 'designations': 'admin'},\n",
       " {'id': 427, 'name': 'wxy', 'designations': 'mgr'},\n",
       " {'id': 428, 'name': 'wxy', 'designations': 'mgr'},\n",
       " {'id': 429, 'name': 'qrs', 'designations': 'admin'},\n",
       " {'id': 430, 'name': 'qrs', 'designations': 'hr'},\n",
       " {'id': 431, 'name': 'abc', 'designations': 'se'},\n",
       " {'id': 432, 'name': 'wxy', 'designations': 'mgr'},\n",
       " {'id': 433, 'name': 'qrs', 'designations': 'mgr'},\n",
       " {'id': 434, 'name': 'abc', 'designations': 'admin'},\n",
       " {'id': 435, 'name': 'mno', 'designations': 'sse'},\n",
       " {'id': 436, 'name': 'mno', 'designations': 'hr'},\n",
       " {'id': 437, 'name': 'mno', 'designations': 'hr'},\n",
       " {'id': 438, 'name': 'mno', 'designations': 'sse'},\n",
       " {'id': 439, 'name': 'qrs', 'designations': 'se'},\n",
       " {'id': 440, 'name': 'wxy', 'designations': 'fin'},\n",
       " {'id': 441, 'name': 'wxy', 'designations': 'admin'},\n",
       " {'id': 442, 'name': 'wxy', 'designations': 'admin'},\n",
       " {'id': 443, 'name': 'abc', 'designations': 'se'},\n",
       " {'id': 444, 'name': 'wxy', 'designations': 'se'},\n",
       " {'id': 445, 'name': 'mno', 'designations': 'admin'},\n",
       " {'id': 446, 'name': 'wxy', 'designations': 'mgr'},\n",
       " {'id': 447, 'name': 'mno', 'designations': 'mgr'},\n",
       " {'id': 448, 'name': 'wxy', 'designations': 'mgr'},\n",
       " {'id': 449, 'name': 'wxy', 'designations': 'hr'},\n",
       " {'id': 450, 'name': 'qrs', 'designations': 'admin'},\n",
       " {'id': 451, 'name': 'wxy', 'designations': 'se'},\n",
       " {'id': 452, 'name': 'mno', 'designations': 'sse'},\n",
       " {'id': 453, 'name': 'qrs', 'designations': 'mgr'},\n",
       " {'id': 454, 'name': 'wxy', 'designations': 'sse'},\n",
       " {'id': 455, 'name': 'wxy', 'designations': 'mgr'},\n",
       " {'id': 456, 'name': 'wxy', 'designations': 'admin'},\n",
       " {'id': 457, 'name': 'mno', 'designations': 'sse'},\n",
       " {'id': 458, 'name': 'abc', 'designations': 'fin'},\n",
       " {'id': 459, 'name': 'mno', 'designations': 'fin'},\n",
       " {'id': 460, 'name': 'wxy', 'designations': 'fin'},\n",
       " {'id': 461, 'name': 'mno', 'designations': 'sse'},\n",
       " {'id': 462, 'name': 'abc', 'designations': 'se'},\n",
       " {'id': 463, 'name': 'qrs', 'designations': 'se'},\n",
       " {'id': 464, 'name': 'abc', 'designations': 'hr'},\n",
       " {'id': 465, 'name': 'wxy', 'designations': 'admin'},\n",
       " {'id': 466, 'name': 'qrs', 'designations': 'sse'},\n",
       " {'id': 467, 'name': 'abc', 'designations': 'hr'},\n",
       " {'id': 468, 'name': 'wxy', 'designations': 'mgr'},\n",
       " {'id': 469, 'name': 'mno', 'designations': 'sse'},\n",
       " {'id': 470, 'name': 'mno', 'designations': 'admin'},\n",
       " {'id': 471, 'name': 'mno', 'designations': 'fin'},\n",
       " {'id': 472, 'name': 'abc', 'designations': 'se'},\n",
       " {'id': 473, 'name': 'qrs', 'designations': 'sse'},\n",
       " {'id': 474, 'name': 'qrs', 'designations': 'mgr'},\n",
       " {'id': 475, 'name': 'qrs', 'designations': 'fin'},\n",
       " {'id': 476, 'name': 'mno', 'designations': 'se'},\n",
       " {'id': 477, 'name': 'abc', 'designations': 'se'},\n",
       " {'id': 478, 'name': 'mno', 'designations': 'mgr'},\n",
       " {'id': 479, 'name': 'abc', 'designations': 'se'},\n",
       " {'id': 480, 'name': 'abc', 'designations': 'hr'},\n",
       " {'id': 481, 'name': 'qrs', 'designations': 'se'},\n",
       " {'id': 482, 'name': 'abc', 'designations': 'fin'},\n",
       " {'id': 483, 'name': 'abc', 'designations': 'sse'},\n",
       " {'id': 484, 'name': 'abc', 'designations': 'hr'},\n",
       " {'id': 485, 'name': 'abc', 'designations': 'hr'},\n",
       " {'id': 486, 'name': 'qrs', 'designations': 'admin'},\n",
       " {'id': 487, 'name': 'qrs', 'designations': 'fin'},\n",
       " {'id': 488, 'name': 'wxy', 'designations': 'fin'},\n",
       " {'id': 489, 'name': 'wxy', 'designations': 'fin'},\n",
       " {'id': 490, 'name': 'abc', 'designations': 'hr'},\n",
       " {'id': 491, 'name': 'qrs', 'designations': 'mgr'},\n",
       " {'id': 492, 'name': 'mno', 'designations': 'fin'},\n",
       " {'id': 493, 'name': 'mno', 'designations': 'se'},\n",
       " {'id': 494, 'name': 'wxy', 'designations': 'mgr'},\n",
       " {'id': 495, 'name': 'abc', 'designations': 'hr'},\n",
       " {'id': 496, 'name': 'wxy', 'designations': 'se'},\n",
       " {'id': 497, 'name': 'qrs', 'designations': 'fin'},\n",
       " {'id': 498, 'name': 'abc', 'designations': 'hr'},\n",
       " {'id': 499, 'name': 'mno', 'designations': 'admin'},\n",
       " {'id': 500, 'name': 'wxy', 'designations': 'fin'},\n",
       " {'id': 501, 'name': 'qrs', 'designations': 'se'},\n",
       " {'id': 502, 'name': 'wxy', 'designations': 'fin'},\n",
       " {'id': 503, 'name': 'wxy', 'designations': 'admin'},\n",
       " {'id': 504, 'name': 'qrs', 'designations': 'se'},\n",
       " {'id': 505, 'name': 'abc', 'designations': 'admin'},\n",
       " {'id': 506, 'name': 'wxy', 'designations': 'hr'},\n",
       " {'id': 507, 'name': 'qrs', 'designations': 'hr'},\n",
       " {'id': 508, 'name': 'qrs', 'designations': 'admin'},\n",
       " {'id': 509, 'name': 'mno', 'designations': 'hr'},\n",
       " {'id': 510, 'name': 'wxy', 'designations': 'admin'},\n",
       " {'id': 511, 'name': 'qrs', 'designations': 'hr'},\n",
       " {'id': 512, 'name': 'wxy', 'designations': 'se'},\n",
       " {'id': 513, 'name': 'mno', 'designations': 'mgr'},\n",
       " {'id': 514, 'name': 'wxy', 'designations': 'admin'},\n",
       " {'id': 515, 'name': 'mno', 'designations': 'se'},\n",
       " {'id': 516, 'name': 'qrs', 'designations': 'se'},\n",
       " {'id': 517, 'name': 'qrs', 'designations': 'admin'},\n",
       " {'id': 518, 'name': 'mno', 'designations': 'hr'},\n",
       " {'id': 519, 'name': 'wxy', 'designations': 'sse'},\n",
       " {'id': 520, 'name': 'abc', 'designations': 'mgr'},\n",
       " {'id': 521, 'name': 'wxy', 'designations': 'admin'},\n",
       " {'id': 522, 'name': 'qrs', 'designations': 'admin'},\n",
       " {'id': 523, 'name': 'wxy', 'designations': 'fin'},\n",
       " {'id': 524, 'name': 'mno', 'designations': 'fin'},\n",
       " {'id': 525, 'name': 'mno', 'designations': 'se'},\n",
       " {'id': 526, 'name': 'abc', 'designations': 'fin'},\n",
       " {'id': 527, 'name': 'wxy', 'designations': 'hr'},\n",
       " {'id': 528, 'name': 'qrs', 'designations': 'se'},\n",
       " {'id': 529, 'name': 'qrs', 'designations': 'sse'},\n",
       " {'id': 530, 'name': 'qrs', 'designations': 'mgr'},\n",
       " {'id': 531, 'name': 'qrs', 'designations': 'hr'},\n",
       " {'id': 532, 'name': 'wxy', 'designations': 'hr'},\n",
       " {'id': 533, 'name': 'mno', 'designations': 'admin'},\n",
       " {'id': 534, 'name': 'qrs', 'designations': 'se'},\n",
       " {'id': 535, 'name': 'wxy', 'designations': 'sse'},\n",
       " {'id': 536, 'name': 'wxy', 'designations': 'sse'},\n",
       " {'id': 537, 'name': 'mno', 'designations': 'sse'},\n",
       " {'id': 538, 'name': 'wxy', 'designations': 'admin'},\n",
       " {'id': 539, 'name': 'qrs', 'designations': 'mgr'},\n",
       " {'id': 540, 'name': 'mno', 'designations': 'fin'},\n",
       " {'id': 541, 'name': 'mno', 'designations': 'se'},\n",
       " {'id': 542, 'name': 'abc', 'designations': 'mgr'},\n",
       " {'id': 543, 'name': 'wxy', 'designations': 'se'},\n",
       " {'id': 544, 'name': 'wxy', 'designations': 'admin'},\n",
       " {'id': 545, 'name': 'abc', 'designations': 'sse'},\n",
       " {'id': 546, 'name': 'abc', 'designations': 'se'},\n",
       " {'id': 547, 'name': 'mno', 'designations': 'hr'},\n",
       " {'id': 548, 'name': 'mno', 'designations': 'hr'},\n",
       " {'id': 549, 'name': 'wxy', 'designations': 'se'},\n",
       " {'id': 550, 'name': 'qrs', 'designations': 'mgr'},\n",
       " {'id': 551, 'name': 'mno', 'designations': 'sse'},\n",
       " {'id': 552, 'name': 'qrs', 'designations': 'hr'},\n",
       " {'id': 553, 'name': 'mno', 'designations': 'mgr'},\n",
       " {'id': 554, 'name': 'abc', 'designations': 'fin'},\n",
       " {'id': 555, 'name': 'wxy', 'designations': 'hr'},\n",
       " {'id': 556, 'name': 'wxy', 'designations': 'admin'},\n",
       " {'id': 557, 'name': 'abc', 'designations': 'admin'},\n",
       " {'id': 558, 'name': 'wxy', 'designations': 'admin'},\n",
       " {'id': 559, 'name': 'abc', 'designations': 'sse'},\n",
       " {'id': 560, 'name': 'qrs', 'designations': 'sse'},\n",
       " {'id': 561, 'name': 'abc', 'designations': 'hr'},\n",
       " {'id': 562, 'name': 'qrs', 'designations': 'mgr'},\n",
       " {'id': 563, 'name': 'abc', 'designations': 'hr'},\n",
       " {'id': 564, 'name': 'wxy', 'designations': 'mgr'},\n",
       " {'id': 565, 'name': 'mno', 'designations': 'mgr'},\n",
       " {'id': 566, 'name': 'abc', 'designations': 'sse'},\n",
       " {'id': 567, 'name': 'mno', 'designations': 'hr'},\n",
       " {'id': 568, 'name': 'wxy', 'designations': 'sse'},\n",
       " {'id': 569, 'name': 'mno', 'designations': 'admin'},\n",
       " {'id': 570, 'name': 'abc', 'designations': 'se'},\n",
       " {'id': 571, 'name': 'mno', 'designations': 'admin'},\n",
       " {'id': 572, 'name': 'qrs', 'designations': 'sse'},\n",
       " {'id': 573, 'name': 'qrs', 'designations': 'sse'},\n",
       " {'id': 574, 'name': 'wxy', 'designations': 'se'},\n",
       " {'id': 575, 'name': 'abc', 'designations': 'se'},\n",
       " {'id': 576, 'name': 'wxy', 'designations': 'sse'},\n",
       " {'id': 577, 'name': 'abc', 'designations': 'mgr'},\n",
       " {'id': 578, 'name': 'wxy', 'designations': 'hr'},\n",
       " {'id': 579, 'name': 'wxy', 'designations': 'sse'},\n",
       " {'id': 580, 'name': 'abc', 'designations': 'mgr'},\n",
       " {'id': 581, 'name': 'abc', 'designations': 'hr'},\n",
       " {'id': 582, 'name': 'abc', 'designations': 'mgr'},\n",
       " {'id': 583, 'name': 'wxy', 'designations': 'fin'},\n",
       " {'id': 584, 'name': 'abc', 'designations': 'mgr'},\n",
       " {'id': 585, 'name': 'mno', 'designations': 'mgr'},\n",
       " {'id': 586, 'name': 'qrs', 'designations': 'mgr'},\n",
       " {'id': 587, 'name': 'wxy', 'designations': 'sse'},\n",
       " {'id': 588, 'name': 'mno', 'designations': 'hr'},\n",
       " {'id': 589, 'name': 'qrs', 'designations': 'mgr'},\n",
       " {'id': 590, 'name': 'mno', 'designations': 'admin'},\n",
       " {'id': 591, 'name': 'wxy', 'designations': 'se'},\n",
       " {'id': 592, 'name': 'qrs', 'designations': 'se'},\n",
       " {'id': 593, 'name': 'qrs', 'designations': 'sse'},\n",
       " {'id': 594, 'name': 'mno', 'designations': 'fin'},\n",
       " {'id': 595, 'name': 'qrs', 'designations': 'sse'},\n",
       " {'id': 596, 'name': 'abc', 'designations': 'se'},\n",
       " {'id': 597, 'name': 'qrs', 'designations': 'fin'},\n",
       " {'id': 598, 'name': 'wxy', 'designations': 'fin'},\n",
       " {'id': 599, 'name': 'wxy', 'designations': 'admin'},\n",
       " {'id': 600, 'name': 'qrs', 'designations': 'se'},\n",
       " {'id': 601, 'name': 'wxy', 'designations': 'mgr'},\n",
       " {'id': 602, 'name': 'wxy', 'designations': 'se'},\n",
       " {'id': 603, 'name': 'mno', 'designations': 'sse'},\n",
       " {'id': 604, 'name': 'wxy', 'designations': 'se'},\n",
       " {'id': 605, 'name': 'wxy', 'designations': 'sse'},\n",
       " {'id': 606, 'name': 'abc', 'designations': 'sse'},\n",
       " {'id': 607, 'name': 'abc', 'designations': 'hr'},\n",
       " {'id': 608, 'name': 'abc', 'designations': 'mgr'},\n",
       " {'id': 609, 'name': 'abc', 'designations': 'fin'},\n",
       " {'id': 610, 'name': 'wxy', 'designations': 'se'},\n",
       " {'id': 611, 'name': 'mno', 'designations': 'sse'},\n",
       " {'id': 612, 'name': 'abc', 'designations': 'fin'},\n",
       " {'id': 613, 'name': 'wxy', 'designations': 'hr'},\n",
       " {'id': 614, 'name': 'qrs', 'designations': 'admin'},\n",
       " {'id': 615, 'name': 'abc', 'designations': 'admin'},\n",
       " {'id': 616, 'name': 'abc', 'designations': 'mgr'},\n",
       " {'id': 617, 'name': 'qrs', 'designations': 'hr'},\n",
       " {'id': 618, 'name': 'wxy', 'designations': 'admin'},\n",
       " {'id': 619, 'name': 'wxy', 'designations': 'se'},\n",
       " {'id': 620, 'name': 'wxy', 'designations': 'se'},\n",
       " {'id': 621, 'name': 'abc', 'designations': 'admin'},\n",
       " {'id': 622, 'name': 'qrs', 'designations': 'se'},\n",
       " {'id': 623, 'name': 'wxy', 'designations': 'mgr'},\n",
       " {'id': 624, 'name': 'wxy', 'designations': 'admin'},\n",
       " {'id': 625, 'name': 'mno', 'designations': 'mgr'},\n",
       " {'id': 626, 'name': 'abc', 'designations': 'se'},\n",
       " {'id': 627, 'name': 'mno', 'designations': 'se'},\n",
       " {'id': 628, 'name': 'wxy', 'designations': 'admin'},\n",
       " {'id': 629, 'name': 'mno', 'designations': 'sse'},\n",
       " {'id': 630, 'name': 'qrs', 'designations': 'admin'},\n",
       " {'id': 631, 'name': 'mno', 'designations': 'admin'},\n",
       " {'id': 632, 'name': 'qrs', 'designations': 'mgr'},\n",
       " {'id': 633, 'name': 'mno', 'designations': 'sse'},\n",
       " {'id': 634, 'name': 'wxy', 'designations': 'mgr'},\n",
       " {'id': 635, 'name': 'mno', 'designations': 'hr'},\n",
       " {'id': 636, 'name': 'qrs', 'designations': 'mgr'},\n",
       " {'id': 637, 'name': 'wxy', 'designations': 'se'},\n",
       " {'id': 638, 'name': 'mno', 'designations': 'mgr'},\n",
       " {'id': 639, 'name': 'qrs', 'designations': 'fin'},\n",
       " {'id': 640, 'name': 'qrs', 'designations': 'mgr'},\n",
       " {'id': 641, 'name': 'abc', 'designations': 'fin'},\n",
       " {'id': 642, 'name': 'mno', 'designations': 'se'},\n",
       " {'id': 643, 'name': 'abc', 'designations': 'hr'},\n",
       " {'id': 644, 'name': 'mno', 'designations': 'hr'},\n",
       " {'id': 645, 'name': 'mno', 'designations': 'sse'},\n",
       " {'id': 646, 'name': 'qrs', 'designations': 'hr'},\n",
       " {'id': 647, 'name': 'mno', 'designations': 'sse'},\n",
       " {'id': 648, 'name': 'abc', 'designations': 'mgr'},\n",
       " {'id': 649, 'name': 'mno', 'designations': 'sse'},\n",
       " {'id': 650, 'name': 'abc', 'designations': 'se'},\n",
       " {'id': 651, 'name': 'qrs', 'designations': 'hr'},\n",
       " {'id': 652, 'name': 'mno', 'designations': 'mgr'},\n",
       " {'id': 653, 'name': 'abc', 'designations': 'fin'},\n",
       " {'id': 654, 'name': 'mno', 'designations': 'sse'},\n",
       " {'id': 655, 'name': 'wxy', 'designations': 'mgr'},\n",
       " {'id': 656, 'name': 'mno', 'designations': 'se'},\n",
       " {'id': 657, 'name': 'wxy', 'designations': 'se'},\n",
       " {'id': 658, 'name': 'abc', 'designations': 'hr'},\n",
       " {'id': 659, 'name': 'wxy', 'designations': 'se'},\n",
       " {'id': 660, 'name': 'qrs', 'designations': 'se'},\n",
       " {'id': 661, 'name': 'qrs', 'designations': 'se'},\n",
       " {'id': 662, 'name': 'mno', 'designations': 'fin'},\n",
       " {'id': 663, 'name': 'qrs', 'designations': 'admin'},\n",
       " {'id': 664, 'name': 'abc', 'designations': 'hr'},\n",
       " {'id': 665, 'name': 'mno', 'designations': 'sse'},\n",
       " {'id': 666, 'name': 'abc', 'designations': 'mgr'},\n",
       " {'id': 667, 'name': 'abc', 'designations': 'se'},\n",
       " {'id': 668, 'name': 'qrs', 'designations': 'fin'},\n",
       " {'id': 669, 'name': 'qrs', 'designations': 'se'},\n",
       " {'id': 670, 'name': 'abc', 'designations': 'admin'},\n",
       " {'id': 671, 'name': 'abc', 'designations': 'se'},\n",
       " {'id': 672, 'name': 'wxy', 'designations': 'admin'},\n",
       " {'id': 673, 'name': 'wxy', 'designations': 'sse'},\n",
       " {'id': 674, 'name': 'mno', 'designations': 'mgr'},\n",
       " {'id': 675, 'name': 'abc', 'designations': 'mgr'},\n",
       " {'id': 676, 'name': 'qrs', 'designations': 'sse'},\n",
       " {'id': 677, 'name': 'qrs', 'designations': 'admin'},\n",
       " {'id': 678, 'name': 'mno', 'designations': 'admin'},\n",
       " {'id': 679, 'name': 'abc', 'designations': 'fin'},\n",
       " {'id': 680, 'name': 'mno', 'designations': 'hr'},\n",
       " {'id': 681, 'name': 'abc', 'designations': 'sse'},\n",
       " {'id': 682, 'name': 'qrs', 'designations': 'hr'},\n",
       " {'id': 683, 'name': 'qrs', 'designations': 'fin'},\n",
       " {'id': 684, 'name': 'qrs', 'designations': 'admin'},\n",
       " {'id': 685, 'name': 'qrs', 'designations': 'se'},\n",
       " {'id': 686, 'name': 'wxy', 'designations': 'se'},\n",
       " {'id': 687, 'name': 'abc', 'designations': 'mgr'},\n",
       " {'id': 688, 'name': 'wxy', 'designations': 'sse'},\n",
       " {'id': 689, 'name': 'qrs', 'designations': 'sse'},\n",
       " {'id': 690, 'name': 'abc', 'designations': 'sse'},\n",
       " {'id': 691, 'name': 'qrs', 'designations': 'fin'},\n",
       " {'id': 692, 'name': 'abc', 'designations': 'sse'},\n",
       " {'id': 693, 'name': 'qrs', 'designations': 'hr'},\n",
       " {'id': 694, 'name': 'abc', 'designations': 'se'},\n",
       " {'id': 695, 'name': 'mno', 'designations': 'fin'},\n",
       " {'id': 696, 'name': 'mno', 'designations': 'fin'},\n",
       " {'id': 697, 'name': 'wxy', 'designations': 'mgr'},\n",
       " {'id': 698, 'name': 'qrs', 'designations': 'fin'},\n",
       " {'id': 699, 'name': 'qrs', 'designations': 'sse'},\n",
       " {'id': 700, 'name': 'abc', 'designations': 'mgr'},\n",
       " {'id': 701, 'name': 'qrs', 'designations': 'hr'},\n",
       " {'id': 702, 'name': 'abc', 'designations': 'fin'},\n",
       " {'id': 703, 'name': 'abc', 'designations': 'mgr'},\n",
       " {'id': 704, 'name': 'abc', 'designations': 'hr'},\n",
       " {'id': 705, 'name': 'qrs', 'designations': 'mgr'},\n",
       " {'id': 706, 'name': 'mno', 'designations': 'sse'},\n",
       " {'id': 707, 'name': 'mno', 'designations': 'sse'},\n",
       " {'id': 708, 'name': 'wxy', 'designations': 'mgr'},\n",
       " {'id': 709, 'name': 'abc', 'designations': 'sse'},\n",
       " {'id': 710, 'name': 'qrs', 'designations': 'admin'},\n",
       " {'id': 711, 'name': 'qrs', 'designations': 'mgr'},\n",
       " {'id': 712, 'name': 'abc', 'designations': 'sse'},\n",
       " {'id': 713, 'name': 'qrs', 'designations': 'mgr'},\n",
       " {'id': 714, 'name': 'abc', 'designations': 'sse'},\n",
       " {'id': 715, 'name': 'abc', 'designations': 'fin'},\n",
       " {'id': 716, 'name': 'qrs', 'designations': 'hr'},\n",
       " {'id': 717, 'name': 'abc', 'designations': 'mgr'},\n",
       " {'id': 718, 'name': 'qrs', 'designations': 'hr'},\n",
       " {'id': 719, 'name': 'mno', 'designations': 'hr'},\n",
       " {'id': 720, 'name': 'wxy', 'designations': 'se'},\n",
       " {'id': 721, 'name': 'abc', 'designations': 'admin'},\n",
       " {'id': 722, 'name': 'abc', 'designations': 'admin'},\n",
       " {'id': 723, 'name': 'abc', 'designations': 'se'},\n",
       " {'id': 724, 'name': 'mno', 'designations': 'fin'},\n",
       " {'id': 725, 'name': 'abc', 'designations': 'mgr'},\n",
       " {'id': 726, 'name': 'abc', 'designations': 'mgr'},\n",
       " {'id': 727, 'name': 'qrs', 'designations': 'admin'},\n",
       " {'id': 728, 'name': 'qrs', 'designations': 'fin'},\n",
       " {'id': 729, 'name': 'wxy', 'designations': 'hr'},\n",
       " {'id': 730, 'name': 'abc', 'designations': 'sse'},\n",
       " {'id': 731, 'name': 'qrs', 'designations': 'hr'},\n",
       " {'id': 732, 'name': 'abc', 'designations': 'admin'},\n",
       " {'id': 733, 'name': 'wxy', 'designations': 'mgr'},\n",
       " {'id': 734, 'name': 'qrs', 'designations': 'admin'},\n",
       " {'id': 735, 'name': 'mno', 'designations': 'mgr'},\n",
       " {'id': 736, 'name': 'abc', 'designations': 'se'},\n",
       " {'id': 737, 'name': 'qrs', 'designations': 'se'},\n",
       " {'id': 738, 'name': 'qrs', 'designations': 'hr'},\n",
       " {'id': 739, 'name': 'qrs', 'designations': 'admin'},\n",
       " {'id': 740, 'name': 'qrs', 'designations': 'mgr'},\n",
       " {'id': 741, 'name': 'abc', 'designations': 'sse'},\n",
       " {'id': 742, 'name': 'mno', 'designations': 'admin'},\n",
       " {'id': 743, 'name': 'abc', 'designations': 'hr'},\n",
       " {'id': 744, 'name': 'mno', 'designations': 'mgr'},\n",
       " {'id': 745, 'name': 'abc', 'designations': 'se'},\n",
       " {'id': 746, 'name': 'abc', 'designations': 'fin'},\n",
       " {'id': 747, 'name': 'mno', 'designations': 'mgr'},\n",
       " {'id': 748, 'name': 'abc', 'designations': 'se'},\n",
       " {'id': 749, 'name': 'abc', 'designations': 'admin'},\n",
       " {'id': 750, 'name': 'abc', 'designations': 'mgr'},\n",
       " {'id': 751, 'name': 'mno', 'designations': 'fin'},\n",
       " {'id': 752, 'name': 'qrs', 'designations': 'mgr'},\n",
       " {'id': 753, 'name': 'qrs', 'designations': 'admin'},\n",
       " {'id': 754, 'name': 'qrs', 'designations': 'sse'},\n",
       " {'id': 755, 'name': 'abc', 'designations': 'admin'},\n",
       " {'id': 756, 'name': 'mno', 'designations': 'admin'},\n",
       " {'id': 757, 'name': 'qrs', 'designations': 'sse'},\n",
       " {'id': 758, 'name': 'mno', 'designations': 'hr'},\n",
       " {'id': 759, 'name': 'mno', 'designations': 'mgr'},\n",
       " {'id': 760, 'name': 'mno', 'designations': 'admin'},\n",
       " {'id': 761, 'name': 'wxy', 'designations': 'mgr'},\n",
       " {'id': 762, 'name': 'mno', 'designations': 'se'},\n",
       " {'id': 763, 'name': 'mno', 'designations': 'fin'},\n",
       " {'id': 764, 'name': 'qrs', 'designations': 'se'},\n",
       " {'id': 765, 'name': 'mno', 'designations': 'admin'},\n",
       " {'id': 766, 'name': 'wxy', 'designations': 'se'},\n",
       " {'id': 767, 'name': 'abc', 'designations': 'se'},\n",
       " {'id': 768, 'name': 'qrs', 'designations': 'hr'},\n",
       " {'id': 769, 'name': 'wxy', 'designations': 'se'},\n",
       " {'id': 770, 'name': 'qrs', 'designations': 'mgr'},\n",
       " {'id': 771, 'name': 'abc', 'designations': 'fin'},\n",
       " {'id': 772, 'name': 'qrs', 'designations': 'mgr'},\n",
       " {'id': 773, 'name': 'abc', 'designations': 'admin'},\n",
       " {'id': 774, 'name': 'mno', 'designations': 'mgr'},\n",
       " {'id': 775, 'name': 'mno', 'designations': 'se'},\n",
       " {'id': 776, 'name': 'wxy', 'designations': 'sse'},\n",
       " {'id': 777, 'name': 'abc', 'designations': 'mgr'},\n",
       " {'id': 778, 'name': 'wxy', 'designations': 'admin'},\n",
       " {'id': 779, 'name': 'mno', 'designations': 'mgr'},\n",
       " {'id': 780, 'name': 'mno', 'designations': 'sse'},\n",
       " {'id': 781, 'name': 'mno', 'designations': 'sse'},\n",
       " {'id': 782, 'name': 'mno', 'designations': 'se'},\n",
       " {'id': 783, 'name': 'abc', 'designations': 'se'},\n",
       " {'id': 784, 'name': 'qrs', 'designations': 'admin'},\n",
       " {'id': 785, 'name': 'wxy', 'designations': 'hr'},\n",
       " {'id': 786, 'name': 'qrs', 'designations': 'sse'},\n",
       " {'id': 787, 'name': 'wxy', 'designations': 'mgr'},\n",
       " {'id': 788, 'name': 'wxy', 'designations': 'se'},\n",
       " {'id': 789, 'name': 'abc', 'designations': 'hr'},\n",
       " {'id': 790, 'name': 'qrs', 'designations': 'fin'},\n",
       " {'id': 791, 'name': 'mno', 'designations': 'admin'},\n",
       " {'id': 792, 'name': 'qrs', 'designations': 'mgr'},\n",
       " {'id': 793, 'name': 'mno', 'designations': 'mgr'},\n",
       " {'id': 794, 'name': 'mno', 'designations': 'hr'},\n",
       " {'id': 795, 'name': 'wxy', 'designations': 'se'},\n",
       " {'id': 796, 'name': 'abc', 'designations': 'hr'},\n",
       " {'id': 797, 'name': 'qrs', 'designations': 'sse'},\n",
       " {'id': 798, 'name': 'wxy', 'designations': 'mgr'},\n",
       " {'id': 799, 'name': 'wxy', 'designations': 'fin'},\n",
       " {'id': 800, 'name': 'wxy', 'designations': 'mgr'},\n",
       " {'id': 801, 'name': 'abc', 'designations': 'admin'},\n",
       " {'id': 802, 'name': 'mno', 'designations': 'se'},\n",
       " {'id': 803, 'name': 'qrs', 'designations': 'admin'},\n",
       " {'id': 804, 'name': 'abc', 'designations': 'sse'},\n",
       " {'id': 805, 'name': 'mno', 'designations': 'sse'},\n",
       " {'id': 806, 'name': 'qrs', 'designations': 'se'},\n",
       " {'id': 807, 'name': 'wxy', 'designations': 'sse'},\n",
       " {'id': 808, 'name': 'mno', 'designations': 'hr'},\n",
       " {'id': 809, 'name': 'mno', 'designations': 'sse'},\n",
       " {'id': 810, 'name': 'wxy', 'designations': 'se'},\n",
       " {'id': 811, 'name': 'qrs', 'designations': 'mgr'},\n",
       " {'id': 812, 'name': 'abc', 'designations': 'hr'},\n",
       " {'id': 813, 'name': 'mno', 'designations': 'fin'},\n",
       " {'id': 814, 'name': 'mno', 'designations': 'sse'},\n",
       " {'id': 815, 'name': 'abc', 'designations': 'mgr'},\n",
       " {'id': 816, 'name': 'abc', 'designations': 'fin'},\n",
       " {'id': 817, 'name': 'qrs', 'designations': 'se'},\n",
       " {'id': 818, 'name': 'qrs', 'designations': 'admin'},\n",
       " {'id': 819, 'name': 'wxy', 'designations': 'fin'},\n",
       " {'id': 820, 'name': 'abc', 'designations': 'se'},\n",
       " {'id': 821, 'name': 'wxy', 'designations': 'hr'},\n",
       " {'id': 822, 'name': 'qrs', 'designations': 'sse'},\n",
       " {'id': 823, 'name': 'wxy', 'designations': 'mgr'},\n",
       " {'id': 824, 'name': 'wxy', 'designations': 'admin'},\n",
       " {'id': 825, 'name': 'qrs', 'designations': 'admin'},\n",
       " {'id': 826, 'name': 'wxy', 'designations': 'sse'},\n",
       " {'id': 827, 'name': 'abc', 'designations': 'se'},\n",
       " {'id': 828, 'name': 'mno', 'designations': 'mgr'},\n",
       " {'id': 829, 'name': 'wxy', 'designations': 'admin'},\n",
       " {'id': 830, 'name': 'wxy', 'designations': 'sse'},\n",
       " {'id': 831, 'name': 'abc', 'designations': 'fin'},\n",
       " {'id': 832, 'name': 'mno', 'designations': 'sse'},\n",
       " {'id': 833, 'name': 'wxy', 'designations': 'admin'},\n",
       " {'id': 834, 'name': 'qrs', 'designations': 'sse'},\n",
       " {'id': 835, 'name': 'qrs', 'designations': 'sse'},\n",
       " {'id': 836, 'name': 'qrs', 'designations': 'se'},\n",
       " {'id': 837, 'name': 'qrs', 'designations': 'mgr'},\n",
       " {'id': 838, 'name': 'mno', 'designations': 'admin'},\n",
       " {'id': 839, 'name': 'wxy', 'designations': 'sse'},\n",
       " {'id': 840, 'name': 'abc', 'designations': 'sse'},\n",
       " {'id': 841, 'name': 'mno', 'designations': 'mgr'},\n",
       " {'id': 842, 'name': 'wxy', 'designations': 'hr'},\n",
       " {'id': 843, 'name': 'wxy', 'designations': 'sse'},\n",
       " {'id': 844, 'name': 'wxy', 'designations': 'se'},\n",
       " {'id': 845, 'name': 'abc', 'designations': 'se'},\n",
       " {'id': 846, 'name': 'qrs', 'designations': 'sse'},\n",
       " {'id': 847, 'name': 'mno', 'designations': 'admin'},\n",
       " {'id': 848, 'name': 'qrs', 'designations': 'sse'},\n",
       " {'id': 849, 'name': 'qrs', 'designations': 'sse'},\n",
       " {'id': 850, 'name': 'abc', 'designations': 'se'},\n",
       " {'id': 851, 'name': 'wxy', 'designations': 'se'},\n",
       " {'id': 852, 'name': 'mno', 'designations': 'fin'},\n",
       " {'id': 853, 'name': 'wxy', 'designations': 'se'},\n",
       " {'id': 854, 'name': 'abc', 'designations': 'se'},\n",
       " {'id': 855, 'name': 'abc', 'designations': 'se'},\n",
       " {'id': 856, 'name': 'qrs', 'designations': 'admin'},\n",
       " {'id': 857, 'name': 'mno', 'designations': 'se'},\n",
       " {'id': 858, 'name': 'wxy', 'designations': 'admin'},\n",
       " {'id': 859, 'name': 'abc', 'designations': 'mgr'},\n",
       " {'id': 860, 'name': 'abc', 'designations': 'fin'},\n",
       " {'id': 861, 'name': 'qrs', 'designations': 'se'},\n",
       " {'id': 862, 'name': 'wxy', 'designations': 'fin'},\n",
       " {'id': 863, 'name': 'abc', 'designations': 'se'},\n",
       " {'id': 864, 'name': 'qrs', 'designations': 'se'},\n",
       " {'id': 865, 'name': 'mno', 'designations': 'sse'},\n",
       " {'id': 866, 'name': 'mno', 'designations': 'se'},\n",
       " {'id': 867, 'name': 'wxy', 'designations': 'sse'},\n",
       " {'id': 868, 'name': 'mno', 'designations': 'admin'},\n",
       " {'id': 869, 'name': 'wxy', 'designations': 'fin'},\n",
       " {'id': 870, 'name': 'qrs', 'designations': 'fin'},\n",
       " {'id': 871, 'name': 'qrs', 'designations': 'se'},\n",
       " {'id': 872, 'name': 'qrs', 'designations': 'se'},\n",
       " {'id': 873, 'name': 'abc', 'designations': 'sse'},\n",
       " {'id': 874, 'name': 'wxy', 'designations': 'admin'},\n",
       " {'id': 875, 'name': 'mno', 'designations': 'fin'},\n",
       " {'id': 876, 'name': 'abc', 'designations': 'admin'},\n",
       " {'id': 877, 'name': 'wxy', 'designations': 'se'},\n",
       " {'id': 878, 'name': 'wxy', 'designations': 'admin'},\n",
       " {'id': 879, 'name': 'qrs', 'designations': 'sse'},\n",
       " {'id': 880, 'name': 'mno', 'designations': 'fin'},\n",
       " {'id': 881, 'name': 'abc', 'designations': 'admin'},\n",
       " {'id': 882, 'name': 'mno', 'designations': 'hr'},\n",
       " {'id': 883, 'name': 'qrs', 'designations': 'sse'},\n",
       " {'id': 884, 'name': 'mno', 'designations': 'fin'},\n",
       " {'id': 885, 'name': 'mno', 'designations': 'sse'},\n",
       " {'id': 886, 'name': 'qrs', 'designations': 'se'},\n",
       " {'id': 887, 'name': 'wxy', 'designations': 'mgr'},\n",
       " {'id': 888, 'name': 'mno', 'designations': 'fin'},\n",
       " {'id': 889, 'name': 'abc', 'designations': 'sse'},\n",
       " {'id': 890, 'name': 'abc', 'designations': 'se'},\n",
       " {'id': 891, 'name': 'mno', 'designations': 'mgr'},\n",
       " {'id': 892, 'name': 'qrs', 'designations': 'sse'},\n",
       " {'id': 893, 'name': 'mno', 'designations': 'fin'},\n",
       " {'id': 894, 'name': 'qrs', 'designations': 'mgr'},\n",
       " {'id': 895, 'name': 'qrs', 'designations': 'admin'},\n",
       " {'id': 896, 'name': 'abc', 'designations': 'admin'},\n",
       " {'id': 897, 'name': 'mno', 'designations': 'hr'},\n",
       " {'id': 898, 'name': 'abc', 'designations': 'fin'},\n",
       " {'id': 899, 'name': 'abc', 'designations': 'admin'},\n",
       " {'id': 900, 'name': 'qrs', 'designations': 'sse'},\n",
       " {'id': 901, 'name': 'qrs', 'designations': 'mgr'},\n",
       " {'id': 902, 'name': 'mno', 'designations': 'mgr'},\n",
       " {'id': 903, 'name': 'wxy', 'designations': 'fin'},\n",
       " {'id': 904, 'name': 'wxy', 'designations': 'mgr'},\n",
       " {'id': 905, 'name': 'qrs', 'designations': 'sse'},\n",
       " {'id': 906, 'name': 'qrs', 'designations': 'sse'},\n",
       " {'id': 907, 'name': 'qrs', 'designations': 'hr'},\n",
       " {'id': 908, 'name': 'abc', 'designations': 'hr'},\n",
       " {'id': 909, 'name': 'mno', 'designations': 'fin'},\n",
       " {'id': 910, 'name': 'abc', 'designations': 'fin'},\n",
       " {'id': 911, 'name': 'wxy', 'designations': 'se'},\n",
       " {'id': 912, 'name': 'abc', 'designations': 'sse'},\n",
       " {'id': 913, 'name': 'mno', 'designations': 'se'},\n",
       " {'id': 914, 'name': 'wxy', 'designations': 'fin'},\n",
       " {'id': 915, 'name': 'qrs', 'designations': 'fin'},\n",
       " {'id': 916, 'name': 'wxy', 'designations': 'sse'},\n",
       " {'id': 917, 'name': 'wxy', 'designations': 'sse'},\n",
       " {'id': 918, 'name': 'qrs', 'designations': 'mgr'},\n",
       " {'id': 919, 'name': 'abc', 'designations': 'se'},\n",
       " {'id': 920, 'name': 'qrs', 'designations': 'sse'},\n",
       " {'id': 921, 'name': 'wxy', 'designations': 'mgr'},\n",
       " {'id': 922, 'name': 'qrs', 'designations': 'fin'},\n",
       " {'id': 923, 'name': 'abc', 'designations': 'admin'},\n",
       " {'id': 924, 'name': 'qrs', 'designations': 'hr'},\n",
       " {'id': 925, 'name': 'wxy', 'designations': 'admin'},\n",
       " {'id': 926, 'name': 'wxy', 'designations': 'hr'},\n",
       " {'id': 927, 'name': 'qrs', 'designations': 'mgr'},\n",
       " {'id': 928, 'name': 'mno', 'designations': 'sse'},\n",
       " {'id': 929, 'name': 'mno', 'designations': 'se'},\n",
       " {'id': 930, 'name': 'abc', 'designations': 'fin'},\n",
       " {'id': 931, 'name': 'abc', 'designations': 'hr'},\n",
       " {'id': 932, 'name': 'qrs', 'designations': 'mgr'},\n",
       " {'id': 933, 'name': 'mno', 'designations': 'fin'},\n",
       " {'id': 934, 'name': 'mno', 'designations': 'hr'},\n",
       " {'id': 935, 'name': 'mno', 'designations': 'hr'},\n",
       " {'id': 936, 'name': 'wxy', 'designations': 'sse'},\n",
       " {'id': 937, 'name': 'mno', 'designations': 'fin'},\n",
       " {'id': 938, 'name': 'wxy', 'designations': 'admin'},\n",
       " {'id': 939, 'name': 'mno', 'designations': 'hr'},\n",
       " {'id': 940, 'name': 'qrs', 'designations': 'fin'},\n",
       " {'id': 941, 'name': 'wxy', 'designations': 'sse'},\n",
       " {'id': 942, 'name': 'mno', 'designations': 'mgr'},\n",
       " {'id': 943, 'name': 'mno', 'designations': 'admin'},\n",
       " {'id': 944, 'name': 'qrs', 'designations': 'admin'},\n",
       " {'id': 945, 'name': 'abc', 'designations': 'hr'},\n",
       " {'id': 946, 'name': 'wxy', 'designations': 'sse'},\n",
       " {'id': 947, 'name': 'mno', 'designations': 'fin'},\n",
       " {'id': 948, 'name': 'qrs', 'designations': 'admin'},\n",
       " {'id': 949, 'name': 'mno', 'designations': 'fin'},\n",
       " {'id': 950, 'name': 'abc', 'designations': 'sse'},\n",
       " {'id': 951, 'name': 'mno', 'designations': 'mgr'},\n",
       " {'id': 952, 'name': 'qrs', 'designations': 'hr'},\n",
       " {'id': 953, 'name': 'wxy', 'designations': 'hr'},\n",
       " {'id': 954, 'name': 'wxy', 'designations': 'fin'},\n",
       " {'id': 955, 'name': 'wxy', 'designations': 'fin'},\n",
       " {'id': 956, 'name': 'wxy', 'designations': 'hr'},\n",
       " {'id': 957, 'name': 'wxy', 'designations': 'mgr'},\n",
       " {'id': 958, 'name': 'mno', 'designations': 'admin'},\n",
       " {'id': 959, 'name': 'qrs', 'designations': 'fin'},\n",
       " {'id': 960, 'name': 'mno', 'designations': 'mgr'},\n",
       " {'id': 961, 'name': 'mno', 'designations': 'admin'},\n",
       " {'id': 962, 'name': 'wxy', 'designations': 'se'},\n",
       " {'id': 963, 'name': 'wxy', 'designations': 'admin'},\n",
       " {'id': 964, 'name': 'abc', 'designations': 'mgr'},\n",
       " {'id': 965, 'name': 'mno', 'designations': 'se'},\n",
       " {'id': 966, 'name': 'mno', 'designations': 'mgr'},\n",
       " {'id': 967, 'name': 'wxy', 'designations': 'admin'},\n",
       " {'id': 968, 'name': 'abc', 'designations': 'admin'},\n",
       " {'id': 969, 'name': 'mno', 'designations': 'sse'},\n",
       " {'id': 970, 'name': 'qrs', 'designations': 'se'},\n",
       " {'id': 971, 'name': 'wxy', 'designations': 'admin'},\n",
       " {'id': 972, 'name': 'qrs', 'designations': 'se'},\n",
       " {'id': 973, 'name': 'abc', 'designations': 'se'},\n",
       " {'id': 974, 'name': 'qrs', 'designations': 'fin'},\n",
       " {'id': 975, 'name': 'mno', 'designations': 'fin'},\n",
       " {'id': 976, 'name': 'wxy', 'designations': 'mgr'},\n",
       " {'id': 977, 'name': 'wxy', 'designations': 'mgr'},\n",
       " {'id': 978, 'name': 'mno', 'designations': 'admin'},\n",
       " {'id': 979, 'name': 'qrs', 'designations': 'admin'},\n",
       " {'id': 980, 'name': 'wxy', 'designations': 'sse'},\n",
       " {'id': 981, 'name': 'wxy', 'designations': 'se'},\n",
       " {'id': 982, 'name': 'wxy', 'designations': 'hr'},\n",
       " {'id': 983, 'name': 'qrs', 'designations': 'mgr'},\n",
       " {'id': 984, 'name': 'mno', 'designations': 'admin'},\n",
       " {'id': 985, 'name': 'abc', 'designations': 'admin'},\n",
       " {'id': 986, 'name': 'abc', 'designations': 'admin'},\n",
       " {'id': 987, 'name': 'mno', 'designations': 'mgr'},\n",
       " {'id': 988, 'name': 'wxy', 'designations': 'fin'},\n",
       " {'id': 989, 'name': 'abc', 'designations': 'mgr'},\n",
       " {'id': 990, 'name': 'mno', 'designations': 'mgr'},\n",
       " {'id': 991, 'name': 'abc', 'designations': 'se'},\n",
       " {'id': 992, 'name': 'qrs', 'designations': 'admin'},\n",
       " {'id': 993, 'name': 'qrs', 'designations': 'sse'},\n",
       " {'id': 994, 'name': 'qrs', 'designations': 'se'},\n",
       " {'id': 995, 'name': 'abc', 'designations': 'admin'},\n",
       " {'id': 996, 'name': 'mno', 'designations': 'sse'},\n",
       " {'id': 997, 'name': 'wxy', 'designations': 'hr'},\n",
       " {'id': 998, 'name': 'abc', 'designations': 'fin'},\n",
       " {'id': 999, 'name': 'mno', 'designations': 'hr'},\n",
       " ...]"
      ]
     },
     "execution_count": 83,
     "metadata": {},
     "output_type": "execute_result"
    }
   ],
   "source": [
    "next(ret)"
   ]
  },
  {
   "cell_type": "code",
   "execution_count": 84,
   "id": "074a33f6",
   "metadata": {},
   "outputs": [],
   "source": [
    "def frange(start, stop, increment):\n",
    "    x = start\n",
    "    while x < stop:\n",
    "        yield x\n",
    "        x += increment"
   ]
  },
  {
   "cell_type": "code",
   "execution_count": 85,
   "id": "35abcf4a",
   "metadata": {},
   "outputs": [
    {
     "name": "stdout",
     "output_type": "stream",
     "text": [
      "<class 'generator'>\n",
      "0\n",
      "0.5\n",
      "1.0\n",
      "1.5\n",
      "2.0\n",
      "2.5\n",
      "3.0\n",
      "3.5\n"
     ]
    }
   ],
   "source": [
    "c = frange(0, 4, 0.5)\n",
    "print(type(c))\n",
    "\n",
    "for n in frange(0, 4, 0.5):\n",
    "    print(n)"
   ]
  },
  {
   "cell_type": "code",
   "execution_count": 86,
   "id": "3f2f5a20",
   "metadata": {},
   "outputs": [],
   "source": [
    "def countdown(n):\n",
    "    print(\"starting to count from\", n)\n",
    "    while n > 0:\n",
    "        yield n\n",
    "        n -= 1\n",
    "    print(\"Done\")"
   ]
  },
  {
   "cell_type": "code",
   "execution_count": 87,
   "id": "bfb346e8",
   "metadata": {},
   "outputs": [],
   "source": [
    "c = countdown(3)"
   ]
  },
  {
   "cell_type": "code",
   "execution_count": 88,
   "id": "1c054ead",
   "metadata": {},
   "outputs": [
    {
     "name": "stdout",
     "output_type": "stream",
     "text": [
      "starting to count from 3\n"
     ]
    },
    {
     "data": {
      "text/plain": [
       "3"
      ]
     },
     "execution_count": 88,
     "metadata": {},
     "output_type": "execute_result"
    }
   ],
   "source": [
    "next(c)"
   ]
  },
  {
   "cell_type": "code",
   "execution_count": 89,
   "id": "f069fe5d",
   "metadata": {},
   "outputs": [
    {
     "data": {
      "text/plain": [
       "2"
      ]
     },
     "execution_count": 89,
     "metadata": {},
     "output_type": "execute_result"
    }
   ],
   "source": [
    "next(c)"
   ]
  },
  {
   "cell_type": "code",
   "execution_count": 90,
   "id": "c5b54fb3",
   "metadata": {},
   "outputs": [
    {
     "data": {
      "text/plain": [
       "1"
      ]
     },
     "execution_count": 90,
     "metadata": {},
     "output_type": "execute_result"
    }
   ],
   "source": [
    "next(c)"
   ]
  },
  {
   "cell_type": "code",
   "execution_count": 91,
   "id": "c2a01f2d",
   "metadata": {},
   "outputs": [
    {
     "name": "stdout",
     "output_type": "stream",
     "text": [
      "Done\n"
     ]
    },
    {
     "ename": "StopIteration",
     "evalue": "",
     "output_type": "error",
     "traceback": [
      "\u001b[0;31m---------------------------------------------------------------------------\u001b[0m",
      "\u001b[0;31mStopIteration\u001b[0m                             Traceback (most recent call last)",
      "\u001b[0;32m<ipython-input-91-e846efec376d>\u001b[0m in \u001b[0;36m<module>\u001b[0;34m\u001b[0m\n\u001b[0;32m----> 1\u001b[0;31m \u001b[0mnext\u001b[0m\u001b[0;34m(\u001b[0m\u001b[0mc\u001b[0m\u001b[0;34m)\u001b[0m\u001b[0;34m\u001b[0m\u001b[0;34m\u001b[0m\u001b[0m\n\u001b[0m",
      "\u001b[0;31mStopIteration\u001b[0m: "
     ]
    }
   ],
   "source": [
    "next(c)"
   ]
  },
  {
   "cell_type": "code",
   "execution_count": 92,
   "id": "dd46cd6f",
   "metadata": {},
   "outputs": [
    {
     "data": {
      "text/plain": [
       "[]"
      ]
     },
     "execution_count": 92,
     "metadata": {},
     "output_type": "execute_result"
    }
   ],
   "source": [
    "list(c)"
   ]
  },
  {
   "cell_type": "code",
   "execution_count": 93,
   "id": "865eb43a",
   "metadata": {},
   "outputs": [
    {
     "name": "stdout",
     "output_type": "stream",
     "text": [
      "5\n",
      "4\n",
      "3\n",
      "2\n",
      "1\n"
     ]
    }
   ],
   "source": [
    "a = [1,2,3,4,5]\n",
    "for x in reversed(a):\n",
    "    print(x)"
   ]
  },
  {
   "cell_type": "code",
   "execution_count": 94,
   "id": "a7db2d0a",
   "metadata": {},
   "outputs": [
    {
     "name": "stdout",
     "output_type": "stream",
     "text": [
      "('a', 'b', 'c')\n",
      "('a', 'c', 'b')\n",
      "('b', 'a', 'c')\n",
      "('b', 'c', 'a')\n",
      "('c', 'a', 'b')\n",
      "('c', 'b', 'a')\n"
     ]
    }
   ],
   "source": [
    "items = ['a','b','c']\n",
    "from itertools import permutations\n",
    "for p in permutations(items):\n",
    "    print(p)"
   ]
  },
  {
   "cell_type": "code",
   "execution_count": 95,
   "id": "9fb57446",
   "metadata": {},
   "outputs": [
    {
     "name": "stdout",
     "output_type": "stream",
     "text": [
      "('a', 'b', 'c')\n"
     ]
    }
   ],
   "source": [
    "from itertools import combinations\n",
    "for c in combinations(items, 3):\n",
    "    print(c)"
   ]
  },
  {
   "cell_type": "code",
   "execution_count": 96,
   "id": "087a7b44",
   "metadata": {},
   "outputs": [
    {
     "name": "stdout",
     "output_type": "stream",
     "text": [
      "('a', 'b')\n",
      "('a', 'c')\n",
      "('b', 'c')\n"
     ]
    }
   ],
   "source": [
    "from itertools import combinations\n",
    "for c in combinations(items, 2):\n",
    "    print(c)"
   ]
  },
  {
   "cell_type": "code",
   "execution_count": 97,
   "id": "79bdb503",
   "metadata": {},
   "outputs": [
    {
     "name": "stdout",
     "output_type": "stream",
     "text": [
      "('a',)\n",
      "('b',)\n",
      "('c',)\n"
     ]
    }
   ],
   "source": [
    "from itertools import combinations\n",
    "for c in combinations(items, 1):\n",
    "    print(c)"
   ]
  },
  {
   "cell_type": "code",
   "execution_count": 98,
   "id": "54bca30f",
   "metadata": {},
   "outputs": [
    {
     "name": "stdout",
     "output_type": "stream",
     "text": [
      "0 a\n",
      "1 b\n",
      "2 c\n"
     ]
    }
   ],
   "source": [
    "# enumerate to the track of sequence and element in terms of index and value\n",
    "\n",
    "mylist = ['a','b','c']\n",
    "for idx, val in enumerate(mylist):\n",
    "    print(idx, val)"
   ]
  },
  {
   "cell_type": "code",
   "execution_count": 99,
   "id": "4d69df02",
   "metadata": {},
   "outputs": [
    {
     "name": "stdout",
     "output_type": "stream",
     "text": [
      "1 a\n",
      "2 b\n",
      "3 c\n"
     ]
    }
   ],
   "source": [
    "for idx, val in enumerate(mylist, 1):\n",
    "    print(idx, val)"
   ]
  },
  {
   "cell_type": "code",
   "execution_count": 100,
   "id": "c3f81b1e",
   "metadata": {},
   "outputs": [
    {
     "name": "stdout",
     "output_type": "stream",
     "text": [
      "1 101\n",
      "2 102\n",
      "3 103\n",
      "4 104\n",
      "5 105\n"
     ]
    }
   ],
   "source": [
    "# zip iterator\n",
    "x = [1,2,3,4,5]\n",
    "y = [101,102,103,104,105]\n",
    "\n",
    "for i, j in zip(x, y):\n",
    "    print(i, j)"
   ]
  },
  {
   "cell_type": "code",
   "execution_count": 101,
   "id": "32f4ff6c",
   "metadata": {},
   "outputs": [
    {
     "name": "stdout",
     "output_type": "stream",
     "text": [
      "{1: 101, 2: 102, 3: 103, 4: 104, 5: 105}\n"
     ]
    }
   ],
   "source": [
    "# zip iterator\n",
    "x = [1,2,3,4,5]\n",
    "y = [101,102,103,104,105]\n",
    "d = {}\n",
    "for i, j in zip(x, y):\n",
    "    d[i] = j\n",
    "print(d)"
   ]
  },
  {
   "cell_type": "code",
   "execution_count": 102,
   "id": "cc1c82ca",
   "metadata": {},
   "outputs": [
    {
     "name": "stdout",
     "output_type": "stream",
     "text": [
      "(1, 'w')\n",
      "(2, 'x')\n",
      "(3, 'y')\n"
     ]
    }
   ],
   "source": [
    "a = [1,2,3]\n",
    "b = ['w', 'x', 'y', 'z']\n",
    "for i in zip(a,b):\n",
    "    print(i)"
   ]
  },
  {
   "cell_type": "code",
   "execution_count": 103,
   "id": "e8bdbc1a",
   "metadata": {},
   "outputs": [
    {
     "name": "stdout",
     "output_type": "stream",
     "text": [
      "(1, 'w')\n",
      "(2, 'x')\n",
      "(3, 'y')\n",
      "(None, 'z')\n"
     ]
    }
   ],
   "source": [
    "from itertools import zip_longest\n",
    "for i in zip_longest(a,b):\n",
    "    print(i)"
   ]
  },
  {
   "cell_type": "code",
   "execution_count": 104,
   "id": "c848c70b",
   "metadata": {},
   "outputs": [
    {
     "name": "stdout",
     "output_type": "stream",
     "text": [
      "(1, 'w', 10)\n",
      "(2, 'x', 11)\n",
      "(3, 'y', 12)\n"
     ]
    }
   ],
   "source": [
    "a = [1,2,3]\n",
    "b = ['w', 'x', 'y']\n",
    "c = [10,11,12]\n",
    "for i in zip(a,b,c):\n",
    "    print(i)"
   ]
  },
  {
   "cell_type": "code",
   "execution_count": 105,
   "id": "3e91cd74",
   "metadata": {},
   "outputs": [
    {
     "name": "stdout",
     "output_type": "stream",
     "text": [
      "1\n",
      "2\n",
      "3\n",
      "w\n",
      "x\n",
      "y\n",
      "10\n",
      "11\n",
      "12\n"
     ]
    }
   ],
   "source": [
    "from itertools import chain\n",
    "for x in chain(a,b,c):\n",
    "    print(x)"
   ]
  },
  {
   "cell_type": "code",
   "execution_count": 106,
   "id": "a44854b9",
   "metadata": {},
   "outputs": [],
   "source": [
    "# flattening the nested sequence\n",
    "from collections import Iterable\n",
    "\n",
    "def flatten(items, ignore_type=(str, bytes)):\n",
    "    for x in items:\n",
    "        if isinstance(x, Iterable) and not isinstance(x, ignore_type):\n",
    "            yield from flatten(x)\n",
    "        else:\n",
    "            yield x"
   ]
  },
  {
   "cell_type": "code",
   "execution_count": 107,
   "id": "b000cda9",
   "metadata": {},
   "outputs": [
    {
     "name": "stdout",
     "output_type": "stream",
     "text": [
      "1\n",
      "2\n",
      "3\n",
      "4\n",
      "5\n",
      "6\n",
      "7\n",
      "8\n"
     ]
    }
   ],
   "source": [
    "items = [1, 2, [3,4, [5,6],7], 8]\n",
    "\n",
    "for x in flatten(items):\n",
    "    print(x)\n"
   ]
  },
  {
   "cell_type": "code",
   "execution_count": 108,
   "id": "9f38e197",
   "metadata": {},
   "outputs": [
    {
     "name": "stdout",
     "output_type": "stream",
     "text": [
      "john\n",
      "ate\n",
      "fred\n",
      "tom\n"
     ]
    }
   ],
   "source": [
    "items = ['john', ['ate','fred'],'tom']\n",
    "\n",
    "for x in flatten(items):\n",
    "    print(x)"
   ]
  },
  {
   "cell_type": "code",
   "execution_count": 109,
   "id": "1fec6bba",
   "metadata": {},
   "outputs": [
    {
     "ename": "FileNotFoundError",
     "evalue": "[Errno 2] No such file or directory: 'sample.txt'",
     "output_type": "error",
     "traceback": [
      "\u001b[0;31m---------------------------------------------------------------------------\u001b[0m",
      "\u001b[0;31mFileNotFoundError\u001b[0m                         Traceback (most recent call last)",
      "\u001b[0;32m<ipython-input-109-93bcf00dbe3b>\u001b[0m in \u001b[0;36m<module>\u001b[0;34m\u001b[0m\n\u001b[1;32m      1\u001b[0m \u001b[0;31m# files\u001b[0m\u001b[0;34m\u001b[0m\u001b[0;34m\u001b[0m\u001b[0;34m\u001b[0m\u001b[0m\n\u001b[1;32m      2\u001b[0m \u001b[0;34m\u001b[0m\u001b[0m\n\u001b[0;32m----> 3\u001b[0;31m \u001b[0;32mwith\u001b[0m \u001b[0mopen\u001b[0m\u001b[0;34m(\u001b[0m\u001b[0;34m'sample.txt'\u001b[0m\u001b[0;34m,\u001b[0m \u001b[0;34m'rt'\u001b[0m\u001b[0;34m)\u001b[0m \u001b[0;32mas\u001b[0m \u001b[0mf\u001b[0m\u001b[0;34m:\u001b[0m\u001b[0;34m\u001b[0m\u001b[0;34m\u001b[0m\u001b[0m\n\u001b[0m\u001b[1;32m      4\u001b[0m     \u001b[0mdata\u001b[0m \u001b[0;34m=\u001b[0m \u001b[0mf\u001b[0m\u001b[0;34m.\u001b[0m\u001b[0mread\u001b[0m\u001b[0;34m(\u001b[0m\u001b[0;34m)\u001b[0m\u001b[0;34m\u001b[0m\u001b[0;34m\u001b[0m\u001b[0m\n\u001b[1;32m      5\u001b[0m \u001b[0mprint\u001b[0m\u001b[0;34m(\u001b[0m\u001b[0mdata\u001b[0m\u001b[0;34m)\u001b[0m\u001b[0;34m\u001b[0m\u001b[0;34m\u001b[0m\u001b[0m\n",
      "\u001b[0;31mFileNotFoundError\u001b[0m: [Errno 2] No such file or directory: 'sample.txt'"
     ]
    }
   ],
   "source": [
    "# files\n",
    "\n",
    "with open('sample.txt', 'rt') as f:\n",
    "    data = f.read()\n",
    "print(data)"
   ]
  },
  {
   "cell_type": "code",
   "execution_count": 110,
   "id": "8472c0b2",
   "metadata": {},
   "outputs": [
    {
     "ename": "FileNotFoundError",
     "evalue": "[Errno 2] No such file or directory: 'sample.txt'",
     "output_type": "error",
     "traceback": [
      "\u001b[0;31m---------------------------------------------------------------------------\u001b[0m",
      "\u001b[0;31mFileNotFoundError\u001b[0m                         Traceback (most recent call last)",
      "\u001b[0;32m<ipython-input-110-a625f2d96031>\u001b[0m in \u001b[0;36m<module>\u001b[0;34m\u001b[0m\n\u001b[1;32m      1\u001b[0m \u001b[0;31m# iterate over the line of files\u001b[0m\u001b[0;34m\u001b[0m\u001b[0;34m\u001b[0m\u001b[0;34m\u001b[0m\u001b[0m\n\u001b[0;32m----> 2\u001b[0;31m \u001b[0;32mwith\u001b[0m \u001b[0mopen\u001b[0m\u001b[0;34m(\u001b[0m\u001b[0;34m'sample.txt'\u001b[0m\u001b[0;34m,\u001b[0m \u001b[0;34m'rt'\u001b[0m\u001b[0;34m)\u001b[0m \u001b[0;32mas\u001b[0m \u001b[0mf\u001b[0m\u001b[0;34m:\u001b[0m\u001b[0;34m\u001b[0m\u001b[0;34m\u001b[0m\u001b[0m\n\u001b[0m\u001b[1;32m      3\u001b[0m     \u001b[0;32mfor\u001b[0m \u001b[0mline\u001b[0m \u001b[0;32min\u001b[0m \u001b[0mf\u001b[0m\u001b[0;34m:\u001b[0m\u001b[0;34m\u001b[0m\u001b[0;34m\u001b[0m\u001b[0m\n\u001b[1;32m      4\u001b[0m         \u001b[0;31m# process line\u001b[0m\u001b[0;34m\u001b[0m\u001b[0;34m\u001b[0m\u001b[0;34m\u001b[0m\u001b[0m\n\u001b[1;32m      5\u001b[0m         \u001b[0mprint\u001b[0m\u001b[0;34m(\u001b[0m\u001b[0mline\u001b[0m\u001b[0;34m)\u001b[0m\u001b[0;34m\u001b[0m\u001b[0;34m\u001b[0m\u001b[0m\n",
      "\u001b[0;31mFileNotFoundError\u001b[0m: [Errno 2] No such file or directory: 'sample.txt'"
     ]
    }
   ],
   "source": [
    "# iterate over the line of files\n",
    "with open('sample.txt', 'rt') as f:\n",
    "    for line in f:\n",
    "        # process line\n",
    "        print(line)"
   ]
  },
  {
   "cell_type": "code",
   "execution_count": 111,
   "id": "7cf2b0b8",
   "metadata": {},
   "outputs": [
    {
     "name": "stdout",
     "output_type": "stream",
     "text": [
      "Help on built-in function print in module builtins:\n",
      "\n",
      "print(...)\n",
      "    print(value, ..., sep=' ', end='\\n', file=sys.stdout, flush=False)\n",
      "    \n",
      "    Prints the values to a stream, or to sys.stdout by default.\n",
      "    Optional keyword arguments:\n",
      "    file:  a file-like object (stream); defaults to the current sys.stdout.\n",
      "    sep:   string inserted between values, default a space.\n",
      "    end:   string appended after the last value, default a newline.\n",
      "    flush: whether to forcibly flush the stream.\n",
      "\n"
     ]
    }
   ],
   "source": [
    "# redirected output\n",
    "help(print)"
   ]
  },
  {
   "cell_type": "code",
   "execution_count": 112,
   "id": "40fe235f",
   "metadata": {},
   "outputs": [],
   "source": [
    "with open('abc.txt', 'wt') as f:\n",
    "    print('hi', file=f)\n",
    "    print(\"hello\", file=f)\n"
   ]
  },
  {
   "cell_type": "code",
   "execution_count": 113,
   "id": "2a6ddf30",
   "metadata": {},
   "outputs": [
    {
     "name": "stdout",
     "output_type": "stream",
     "text": [
      "hi\n",
      "hello\n",
      "\n"
     ]
    }
   ],
   "source": [
    "with open('abc.txt', 'rt') as f:\n",
    "    print(f.read())"
   ]
  },
  {
   "cell_type": "code",
   "execution_count": null,
   "id": "e0a26643",
   "metadata": {},
   "outputs": [],
   "source": []
  }
 ],
 "metadata": {
  "kernelspec": {
   "display_name": "Python 3",
   "language": "python",
   "name": "python3"
  },
  "language_info": {
   "codemirror_mode": {
    "name": "ipython",
    "version": 3
   },
   "file_extension": ".py",
   "mimetype": "text/x-python",
   "name": "python",
   "nbconvert_exporter": "python",
   "pygments_lexer": "ipython3",
   "version": "3.6.13"
  }
 },
 "nbformat": 4,
 "nbformat_minor": 5
}
