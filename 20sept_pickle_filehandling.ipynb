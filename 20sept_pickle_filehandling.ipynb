{
 "cells": [
  {
   "cell_type": "code",
   "execution_count": 1,
   "id": "bcdc764d",
   "metadata": {},
   "outputs": [],
   "source": [
    "file = open('sample.txt','w')\n",
    "file.write(\"Hi\\nHelloo\")\n",
    "\n",
    "file.close()"
   ]
  },
  {
   "cell_type": "code",
   "execution_count": 2,
   "id": "578d0102",
   "metadata": {},
   "outputs": [
    {
     "name": "stdout",
     "output_type": "stream",
     "text": [
      "Hi\n",
      "Helloo\n"
     ]
    }
   ],
   "source": [
    "# read entire file as single string\n",
    "with open(\"sample.txt\", \"rt\") as f:\n",
    "    data = f.read()\n",
    "print(data)"
   ]
  },
  {
   "cell_type": "code",
   "execution_count": 3,
   "id": "fa81037e",
   "metadata": {},
   "outputs": [
    {
     "name": "stdout",
     "output_type": "stream",
     "text": [
      "Hi\n",
      "\n",
      "Helloo\n"
     ]
    }
   ],
   "source": [
    "# iterate over the file\n",
    "with open('sample.txt', 'rt') as f:\n",
    "    for line in f:\n",
    "        print(line)"
   ]
  },
  {
   "cell_type": "code",
   "execution_count": 4,
   "id": "7a246bd1",
   "metadata": {},
   "outputs": [],
   "source": [
    "# write chunk of text data\n",
    "\n",
    "with open(\"sample.txt\", \"wt\") as f:\n",
    "    f.write(\"Good Morning\")\n",
    "    f.write(\"Advance Python Training\")\n"
   ]
  },
  {
   "cell_type": "code",
   "execution_count": 5,
   "id": "448a366d",
   "metadata": {},
   "outputs": [],
   "source": [
    "# f = open(\"filename\", \"mode\")\n",
    "# f.read()\n",
    "# f.write()\n",
    "# f.close()"
   ]
  },
  {
   "cell_type": "code",
   "execution_count": 6,
   "id": "03236cb7",
   "metadata": {},
   "outputs": [],
   "source": [
    "# redirect out file\n",
    "\n",
    "with open(\"sample.txt\", \"wt\") as f:\n",
    "    print(\" Hi python\", file=f)\n",
    "    print(\"line3\",file=f)"
   ]
  },
  {
   "cell_type": "code",
   "execution_count": 7,
   "id": "4e446b1d",
   "metadata": {},
   "outputs": [],
   "source": [
    "f = open(\"sample.txt\", \"rt\")\n",
    "data = f.read()\n",
    "f.close()"
   ]
  },
  {
   "cell_type": "code",
   "execution_count": 8,
   "id": "8f502ef1",
   "metadata": {},
   "outputs": [
    {
     "data": {
      "text/plain": [
       "' Hi python\\nline3\\n'"
      ]
     },
     "execution_count": 8,
     "metadata": {},
     "output_type": "execute_result"
    }
   ],
   "source": [
    "data"
   ]
  },
  {
   "cell_type": "code",
   "execution_count": 9,
   "id": "d7420663",
   "metadata": {},
   "outputs": [],
   "source": [
    "import os\n",
    "if not os.path.exists(\"somefile\"):\n",
    "    with open(\"somefile\", \"wt\")as f:\n",
    "        f.write(\"Hello\\n\")\n",
    "else:\n",
    "    print(\"file is already exist!!!\")"
   ]
  },
  {
   "cell_type": "code",
   "execution_count": 10,
   "id": "79dd77c0",
   "metadata": {},
   "outputs": [
    {
     "ename": "FileNotFoundError",
     "evalue": "[Errno 2] No such file or directory: 'somefile.bin'",
     "output_type": "error",
     "traceback": [
      "\u001b[0;31m---------------------------------------------------------------------------\u001b[0m",
      "\u001b[0;31mFileNotFoundError\u001b[0m                         Traceback (most recent call last)",
      "\u001b[0;32m<ipython-input-10-8117bf0828a1>\u001b[0m in \u001b[0;36m<module>\u001b[0;34m\u001b[0m\n\u001b[0;32m----> 1\u001b[0;31m \u001b[0;32mwith\u001b[0m \u001b[0mopen\u001b[0m\u001b[0;34m(\u001b[0m\u001b[0;34m'somefile.bin'\u001b[0m\u001b[0;34m,\u001b[0m\u001b[0;34m\"rb\"\u001b[0m\u001b[0;34m)\u001b[0m \u001b[0;32mas\u001b[0m \u001b[0mf\u001b[0m\u001b[0;34m:\u001b[0m\u001b[0;34m\u001b[0m\u001b[0;34m\u001b[0m\u001b[0m\n\u001b[0m\u001b[1;32m      2\u001b[0m     \u001b[0mdata\u001b[0m \u001b[0;34m=\u001b[0m \u001b[0mf\u001b[0m\u001b[0;34m.\u001b[0m\u001b[0mread\u001b[0m\u001b[0;34m(\u001b[0m\u001b[0;34m)\u001b[0m\u001b[0;34m\u001b[0m\u001b[0;34m\u001b[0m\u001b[0m\n",
      "\u001b[0;31mFileNotFoundError\u001b[0m: [Errno 2] No such file or directory: 'somefile.bin'"
     ]
    }
   ],
   "source": [
    "with open('somefile.bin',\"rb\") as f:\n",
    "    data = f.read()"
   ]
  },
  {
   "cell_type": "code",
   "execution_count": 11,
   "id": "a54f4c31",
   "metadata": {},
   "outputs": [],
   "source": [
    "# gzip compression\n",
    "\n",
    "import gzip\n",
    "with gzip.open(\"somefile-new,gz\", \"wt\") as f:\n",
    "    f.write(\"txt compression\")"
   ]
  },
  {
   "cell_type": "code",
   "execution_count": 12,
   "id": "582be461",
   "metadata": {},
   "outputs": [],
   "source": [
    "# bz2\n",
    "import bz2\n",
    "with bz2.open(\"somefile.bz2\", \"wt\") as f:\n",
    "    f.write(\"text compression\")"
   ]
  },
  {
   "cell_type": "code",
   "execution_count": 14,
   "id": "35028aac",
   "metadata": {},
   "outputs": [
    {
     "name": "stdout",
     "output_type": "stream",
     "text": [
      "text information txt compression\n"
     ]
    }
   ],
   "source": [
    "# read\n",
    "import gzip\n",
    "with gzip.open(\"somefile-new,gz\", \"rt\") as f:\n",
    "    text = f.read()\n",
    "    print(\"text information\", text)"
   ]
  },
  {
   "cell_type": "code",
   "execution_count": 15,
   "id": "926d555a",
   "metadata": {},
   "outputs": [
    {
     "name": "stdout",
     "output_type": "stream",
     "text": [
      "text1 text compression\n"
     ]
    }
   ],
   "source": [
    "# bz2 compression\n",
    "with bz2.open(\"somefile.bz2\", \"rt\") as f:\n",
    "    text = f.read()\n",
    "    print(\"text1\", text)"
   ]
  },
  {
   "cell_type": "code",
   "execution_count": 16,
   "id": "b9a1b453",
   "metadata": {},
   "outputs": [],
   "source": [
    "fh = open(\"sample.txt\")"
   ]
  },
  {
   "cell_type": "code",
   "execution_count": 17,
   "id": "8d3e09d3",
   "metadata": {},
   "outputs": [
    {
     "name": "stdout",
     "output_type": "stream",
     "text": [
      " Hi python\n",
      "line3\n",
      "\n"
     ]
    }
   ],
   "source": [
    "print(fh.read())"
   ]
  },
  {
   "cell_type": "code",
   "execution_count": 18,
   "id": "fe314a27",
   "metadata": {},
   "outputs": [
    {
     "data": {
      "text/plain": [
       "''"
      ]
     },
     "execution_count": 18,
     "metadata": {},
     "output_type": "execute_result"
    }
   ],
   "source": [
    "# print null string\n",
    "fh.read()"
   ]
  },
  {
   "cell_type": "code",
   "execution_count": 19,
   "id": "4a3a7496",
   "metadata": {},
   "outputs": [],
   "source": [
    "fh = open(\"sample.txt\")"
   ]
  },
  {
   "cell_type": "code",
   "execution_count": 20,
   "id": "d722a81c",
   "metadata": {},
   "outputs": [
    {
     "data": {
      "text/plain": [
       "' Hi python\\n'"
      ]
     },
     "execution_count": 20,
     "metadata": {},
     "output_type": "execute_result"
    }
   ],
   "source": [
    "fh.readline()"
   ]
  },
  {
   "cell_type": "code",
   "execution_count": 21,
   "id": "f9082d01",
   "metadata": {},
   "outputs": [
    {
     "data": {
      "text/plain": [
       "'line3\\n'"
      ]
     },
     "execution_count": 21,
     "metadata": {},
     "output_type": "execute_result"
    }
   ],
   "source": [
    "fh.readline()"
   ]
  },
  {
   "cell_type": "code",
   "execution_count": 22,
   "id": "a2cc7731",
   "metadata": {},
   "outputs": [
    {
     "name": "stdout",
     "output_type": "stream",
     "text": [
      " Hi python\n",
      "\n",
      "['line3\\n']\n"
     ]
    }
   ],
   "source": [
    "with open(\"sample.txt\") as fh:\n",
    "    print(fh.readline())\n",
    "    print(fh.readlines())"
   ]
  },
  {
   "cell_type": "code",
   "execution_count": 23,
   "id": "5939cb70",
   "metadata": {},
   "outputs": [
    {
     "name": "stdout",
     "output_type": "stream",
     "text": [
      " Hi python\n",
      "line3\n",
      "\n",
      "[' Hi python\\n', 'line3\\n']\n"
     ]
    }
   ],
   "source": [
    "with open(\"sample.txt\") as fh:\n",
    "    data = fh.read()\n",
    "    print(data)\n",
    "    fh.seek(0,0) # reset again\n",
    "    print(fh.readlines())"
   ]
  },
  {
   "cell_type": "code",
   "execution_count": 24,
   "id": "05791066",
   "metadata": {},
   "outputs": [
    {
     "name": "stdout",
     "output_type": "stream",
     "text": [
      " Hi python\n",
      "line3\n"
     ]
    }
   ],
   "source": [
    "with open(\"sample.txt\") as fh:\n",
    "    for line in fh:\n",
    "        print(line, end='')"
   ]
  },
  {
   "cell_type": "code",
   "execution_count": 25,
   "id": "6c651d32",
   "metadata": {},
   "outputs": [
    {
     "name": "stdout",
     "output_type": "stream",
     "text": [
      "1  Hi python\n"
     ]
    }
   ],
   "source": [
    "# print all lines containing python inclusing line number\n",
    "with open(\"sample.txt\") as fh:\n",
    "    count = 1\n",
    "    for line in fh:\n",
    "        if 'python'.upper() in line.upper():\n",
    "            print(count, line, end='')\n",
    "            count +=1"
   ]
  },
  {
   "cell_type": "code",
   "execution_count": 27,
   "id": "770dc372",
   "metadata": {},
   "outputs": [],
   "source": [
    "import os\n",
    "path = \"/usr/nikita/data/data.csv\""
   ]
  },
  {
   "cell_type": "code",
   "execution_count": 28,
   "id": "48d38c3c",
   "metadata": {},
   "outputs": [
    {
     "data": {
      "text/plain": [
       "'data.csv'"
      ]
     },
     "execution_count": 28,
     "metadata": {},
     "output_type": "execute_result"
    }
   ],
   "source": [
    "os.path.basename(path)"
   ]
  },
  {
   "cell_type": "code",
   "execution_count": 29,
   "id": "fb39f922",
   "metadata": {},
   "outputs": [
    {
     "data": {
      "text/plain": [
       "'/usr/nikita/data'"
      ]
     },
     "execution_count": 29,
     "metadata": {},
     "output_type": "execute_result"
    }
   ],
   "source": [
    "# Go the directory name\n",
    "os.path.dirname(path)"
   ]
  },
  {
   "cell_type": "code",
   "execution_count": 30,
   "id": "9188499b",
   "metadata": {},
   "outputs": [
    {
     "data": {
      "text/plain": [
       "'tmp/data/data.csv'"
      ]
     },
     "execution_count": 30,
     "metadata": {},
     "output_type": "execute_result"
    }
   ],
   "source": [
    "# join component path\n",
    "os.path.join(\"tmp\", \"data\", os.path.basename(path))"
   ]
  },
  {
   "cell_type": "code",
   "execution_count": 31,
   "id": "c89a9f7b",
   "metadata": {},
   "outputs": [
    {
     "data": {
      "text/plain": [
       "'/home/jovyan/Data/data.csv'"
      ]
     },
     "execution_count": 31,
     "metadata": {},
     "output_type": "execute_result"
    }
   ],
   "source": [
    "# Expand the user's home directory\n",
    "\n",
    "path = '~/Data/data.csv'\n",
    "os.path.expanduser(path)"
   ]
  },
  {
   "cell_type": "code",
   "execution_count": 32,
   "id": "e99d8f9c",
   "metadata": {},
   "outputs": [
    {
     "data": {
      "text/plain": [
       "('~/Data/data', '.csv')"
      ]
     },
     "execution_count": 32,
     "metadata": {},
     "output_type": "execute_result"
    }
   ],
   "source": [
    "# split the file extension\n",
    "os.path.splitext(path)"
   ]
  },
  {
   "cell_type": "code",
   "execution_count": 33,
   "id": "cedce984",
   "metadata": {},
   "outputs": [
    {
     "data": {
      "text/plain": [
       "False"
      ]
     },
     "execution_count": 33,
     "metadata": {},
     "output_type": "execute_result"
    }
   ],
   "source": [
    "import os\n",
    "os.path.exists('/etx/passwd')"
   ]
  },
  {
   "cell_type": "code",
   "execution_count": 34,
   "id": "61de536e",
   "metadata": {},
   "outputs": [
    {
     "data": {
      "text/plain": [
       "True"
      ]
     },
     "execution_count": 34,
     "metadata": {},
     "output_type": "execute_result"
    }
   ],
   "source": [
    "# is regular\n",
    "os.path.isfile('/etc/passwd')"
   ]
  },
  {
   "cell_type": "code",
   "execution_count": 35,
   "id": "3941ec19",
   "metadata": {},
   "outputs": [
    {
     "data": {
      "text/plain": [
       "False"
      ]
     },
     "execution_count": 35,
     "metadata": {},
     "output_type": "execute_result"
    }
   ],
   "source": [
    "# directory present or not\n",
    "os.path.isdir(\"/etc/passwd\")"
   ]
  },
  {
   "cell_type": "code",
   "execution_count": 36,
   "id": "76e6d0dd",
   "metadata": {},
   "outputs": [
    {
     "data": {
      "text/plain": [
       "False"
      ]
     },
     "execution_count": 36,
     "metadata": {},
     "output_type": "execute_result"
    }
   ],
   "source": [
    "# is symbolic path\n",
    "os.path.islink(\"/usr/local/bin/document\")"
   ]
  },
  {
   "cell_type": "code",
   "execution_count": 37,
   "id": "b7e30f2e",
   "metadata": {},
   "outputs": [
    {
     "name": "stdout",
     "output_type": "stream",
     "text": [
      "['lib', 'srv', 'bin', 'boot', 'etc', 'tmp', 'var', 'sbin', 'run', 'opt', 'media', 'root', 'dev', 'sys', 'lib64', 'proc', 'usr', 'mnt', 'home', '.dockerenv']\n"
     ]
    }
   ],
   "source": [
    "# directory name all\n",
    "import os\n",
    "name= os.listdir(\"/\")\n",
    "print(name)"
   ]
  },
  {
   "cell_type": "code",
   "execution_count": 38,
   "id": "fcc4dd54",
   "metadata": {},
   "outputs": [
    {
     "data": {
      "text/plain": [
       "'/usr/local/bin/document'"
      ]
     },
     "execution_count": 38,
     "metadata": {},
     "output_type": "execute_result"
    }
   ],
   "source": [
    "# real path\n",
    "os.path.realpath(\"/usr/local/bin/document\")"
   ]
  },
  {
   "cell_type": "code",
   "execution_count": 39,
   "id": "8d8cf554",
   "metadata": {},
   "outputs": [],
   "source": [
    "# get all regular file\n",
    "import os.path\n",
    "names = [name for name in os.listdir(\"/\") if os.path.isfile(os.path.join('/',name))]"
   ]
  },
  {
   "cell_type": "code",
   "execution_count": 40,
   "id": "9a15e92d",
   "metadata": {},
   "outputs": [
    {
     "data": {
      "text/plain": [
       "['.dockerenv']"
      ]
     },
     "execution_count": 40,
     "metadata": {},
     "output_type": "execute_result"
    }
   ],
   "source": [
    "names"
   ]
  },
  {
   "cell_type": "code",
   "execution_count": 41,
   "id": "50996ef4",
   "metadata": {},
   "outputs": [
    {
     "data": {
      "text/plain": [
       "['lib',\n",
       " 'srv',\n",
       " 'bin',\n",
       " 'boot',\n",
       " 'etc',\n",
       " 'tmp',\n",
       " 'var',\n",
       " 'sbin',\n",
       " 'run',\n",
       " 'opt',\n",
       " 'media',\n",
       " 'root',\n",
       " 'dev',\n",
       " 'sys',\n",
       " 'lib64',\n",
       " 'proc',\n",
       " 'usr',\n",
       " 'mnt',\n",
       " 'home',\n",
       " '.dockerenv']"
      ]
     },
     "execution_count": 41,
     "metadata": {},
     "output_type": "execute_result"
    }
   ],
   "source": [
    "name\n"
   ]
  },
  {
   "cell_type": "code",
   "execution_count": 42,
   "id": "b0e3f406",
   "metadata": {},
   "outputs": [],
   "source": [
    "# get all dirs\n",
    "\n",
    "dirnames = [name for name in os.listdir('/') if os.path.join('/', name)]"
   ]
  },
  {
   "cell_type": "code",
   "execution_count": 43,
   "id": "fedce5ad",
   "metadata": {},
   "outputs": [
    {
     "data": {
      "text/plain": [
       "['lib',\n",
       " 'srv',\n",
       " 'bin',\n",
       " 'boot',\n",
       " 'etc',\n",
       " 'tmp',\n",
       " 'var',\n",
       " 'sbin',\n",
       " 'run',\n",
       " 'opt',\n",
       " 'media',\n",
       " 'root',\n",
       " 'dev',\n",
       " 'sys',\n",
       " 'lib64',\n",
       " 'proc',\n",
       " 'usr',\n",
       " 'mnt',\n",
       " 'home',\n",
       " '.dockerenv']"
      ]
     },
     "execution_count": 43,
     "metadata": {},
     "output_type": "execute_result"
    }
   ],
   "source": [
    "dirnames"
   ]
  },
  {
   "cell_type": "code",
   "execution_count": 44,
   "id": "7409d627",
   "metadata": {},
   "outputs": [],
   "source": [
    "pyfiles = [name for name in os.listdir('/') if name.endswith('.py')]"
   ]
  },
  {
   "cell_type": "code",
   "execution_count": 45,
   "id": "a45013da",
   "metadata": {},
   "outputs": [
    {
     "data": {
      "text/plain": [
       "[]"
      ]
     },
     "execution_count": 45,
     "metadata": {},
     "output_type": "execute_result"
    }
   ],
   "source": [
    "pyfiles"
   ]
  },
  {
   "cell_type": "code",
   "execution_count": 46,
   "id": "a02232ec",
   "metadata": {},
   "outputs": [
    {
     "data": {
      "text/plain": [
       "{'key': 'john', 'name': 'fred', 'age': 21, 'pat': 400000}"
      ]
     },
     "execution_count": 46,
     "metadata": {},
     "output_type": "execute_result"
    }
   ],
   "source": [
    "# pickle file\n",
    "import pickle\n",
    "dict_pickle = {\"key\": \"john\", \"name\": \"fred\", \"age\": 21, \"pat\": 400000}\n",
    "f = open('pickel1','wb')\n",
    "# dump the pickle object\n",
    "pickle.dump(dict_pickle, f)\n",
    "# dump into pickle string\n",
    "s = pickle.dumps(dict_pickle)\n",
    "pickle.loads(s)\n",
    "# make any line comment remove another comment\n",
    "# print(s)"
   ]
  },
  {
   "cell_type": "code",
   "execution_count": 47,
   "id": "c3f82987",
   "metadata": {},
   "outputs": [],
   "source": [
    "# restore from file\n",
    "f = open('pickel1', 'rb')\n",
    "# load the object\n",
    "data = pickle.load(f)"
   ]
  },
  {
   "cell_type": "code",
   "execution_count": 48,
   "id": "bd96d587",
   "metadata": {},
   "outputs": [
    {
     "data": {
      "text/plain": [
       "{'key': 'john', 'name': 'fred', 'age': 21, 'pat': 400000}"
      ]
     },
     "execution_count": 48,
     "metadata": {},
     "output_type": "execute_result"
    }
   ],
   "source": [
    "data"
   ]
  },
  {
   "cell_type": "code",
   "execution_count": 49,
   "id": "bcbe3390",
   "metadata": {},
   "outputs": [
    {
     "data": {
      "text/plain": [
       "[1, 2, 3, 4]"
      ]
     },
     "execution_count": 49,
     "metadata": {},
     "output_type": "execute_result"
    }
   ],
   "source": [
    "import pickle\n",
    "f = open(\"somedata1\", \"wb\")\n",
    "pickle.dump([1,2,3,4], f)\n",
    "pickle.dump(\"hello\", f)\n",
    "pickle.dump({\"apple\", \"pear\", \"banana\"}, f)\n",
    "f.close()\n",
    "f = open(\"somedata1\", \"rb\")\n",
    "pickle.load(f)"
   ]
  },
  {
   "cell_type": "code",
   "execution_count": 50,
   "id": "020584b5",
   "metadata": {},
   "outputs": [
    {
     "data": {
      "text/plain": [
       "'hello'"
      ]
     },
     "execution_count": 50,
     "metadata": {},
     "output_type": "execute_result"
    }
   ],
   "source": [
    "pickle.load(f)"
   ]
  },
  {
   "cell_type": "code",
   "execution_count": 51,
   "id": "d1d160da",
   "metadata": {},
   "outputs": [
    {
     "data": {
      "text/plain": [
       "{'apple', 'banana', 'pear'}"
      ]
     },
     "execution_count": 51,
     "metadata": {},
     "output_type": "execute_result"
    }
   ],
   "source": [
    "pickle.load(f)"
   ]
  },
  {
   "cell_type": "code",
   "execution_count": 52,
   "id": "7cad121d",
   "metadata": {},
   "outputs": [
    {
     "name": "stdout",
     "output_type": "stream",
     "text": [
      "john ==> {'key': 'john', 'name': 'fred', 'age': 21, 'pay': 400000}\n",
      "jay ==> {'key': 'jay', 'name': 'jay', 'age': 50, 'pay': 500000}\n"
     ]
    }
   ],
   "source": [
    "import pickle\n",
    "\n",
    "def storeData():\n",
    "    # initializing the data\n",
    "    pickle_dataset_1 = {\"key\": \"john\", \"name\": \"fred\", \"age\":21, \"pay\": 400000}\n",
    "    pickle_dataset_2 = {\"key\":  \"jay\", \"name\": \"jay\", \"age\":50, \"pay\": 500000}\n",
    "    \n",
    "    db ={}\n",
    "    db['john'] = pickle_dataset_1\n",
    "    db['jay'] = pickle_dataset_2\n",
    "    dbfile = open(\"examplepickle\", \"wb\")\n",
    "    pickle.dump(db, dbfile)\n",
    "    dbfile.close()\n",
    "\n",
    "def loadData():\n",
    "    # for reading\n",
    "    \n",
    "    dbfile = open(\"examplepickle\", \"rb\")\n",
    "    db = pickle.load(dbfile)\n",
    "    for key in db:\n",
    "        print(key, \"==>\", db[key])\n",
    "    dbfile.close()\n",
    "\n",
    "if __name__ == '__main__':\n",
    "    storeData()\n",
    "    loadData()"
   ]
  },
  {
   "cell_type": "code",
   "execution_count": 53,
   "id": "b4452a65",
   "metadata": {},
   "outputs": [
    {
     "name": "stdout",
     "output_type": "stream",
     "text": [
      "[['john', 'fred', 21, 400000], ['jay', 'jay', 50, 500000]]\n"
     ]
    }
   ],
   "source": [
    "# with List\n",
    "import pickle\n",
    "\n",
    "def storeData():\n",
    "    # initializing the data\n",
    "    pickle_dataset_1 = ['john','fred',21,400000]\n",
    "    pickle_dataset_2 = [\"jay\",\"jay\",50,500000]\n",
    "    \n",
    "    db = [1,2]\n",
    "    db[0] = pickle_dataset_1\n",
    "    db[1] = pickle_dataset_2\n",
    "    dbfile = open(\"examplepickle\", \"wb\")\n",
    "    pickle.dump(db, dbfile)\n",
    "    dbfile.close()\n",
    "\n",
    "def loadData():\n",
    "    # for reading\n",
    "    \n",
    "    dbfile = open(\"examplepickle\", \"rb\")\n",
    "    db = pickle.load(dbfile)\n",
    "\n",
    "    print(db)\n",
    "    dbfile.close()\n",
    "\n",
    "if __name__ == '__main__':\n",
    "    storeData()\n",
    "    loadData()"
   ]
  },
  {
   "cell_type": "code",
   "execution_count": 54,
   "id": "002a2407",
   "metadata": {},
   "outputs": [
    {
     "name": "stdout",
     "output_type": "stream",
     "text": [
      "{\"name\": \"Infy\", \"shares\": 100, \"price\": 1000}\n"
     ]
    }
   ],
   "source": [
    "# json data\n",
    "import json\n",
    "data = {\n",
    "    \"name\": \"Infy\",\n",
    "    \"shares\": 100,\n",
    "    \"price\": 1000\n",
    "}\n",
    "\n",
    "json_str = json.dumps(data)\n",
    "print(json_str)"
   ]
  },
  {
   "cell_type": "code",
   "execution_count": 55,
   "id": "508a9814",
   "metadata": {},
   "outputs": [
    {
     "name": "stdout",
     "output_type": "stream",
     "text": [
      "{\"name\": \"Infy\", \"shares\": 100, \"price\": 1000}\n"
     ]
    }
   ],
   "source": [
    "data1 = json.loads(json_str)\n",
    "print(json_str)"
   ]
  },
  {
   "cell_type": "code",
   "execution_count": 56,
   "id": "ef433f2b",
   "metadata": {},
   "outputs": [],
   "source": [
    "with open(\"data.json\", \"w\") as f:\n",
    "    json.dump(data,f)"
   ]
  },
  {
   "cell_type": "code",
   "execution_count": 57,
   "id": "f8c7779a",
   "metadata": {},
   "outputs": [
    {
     "name": "stdout",
     "output_type": "stream",
     "text": [
      "{'name': 'Infy', 'shares': 100, 'price': 1000}\n"
     ]
    }
   ],
   "source": [
    "with open(\"data.json\", \"r\") as f:\n",
    "    g = json.load(f)\n",
    "    print(g)"
   ]
  },
  {
   "cell_type": "code",
   "execution_count": 58,
   "id": "cfb87a6f",
   "metadata": {},
   "outputs": [
    {
     "data": {
      "text/plain": [
       "'false'"
      ]
     },
     "execution_count": 58,
     "metadata": {},
     "output_type": "execute_result"
    }
   ],
   "source": [
    "json.dumps(False)"
   ]
  },
  {
   "cell_type": "code",
   "execution_count": 59,
   "id": "8156280e",
   "metadata": {},
   "outputs": [],
   "source": []
  },
  {
   "cell_type": "code",
   "execution_count": null,
   "id": "31274994",
   "metadata": {},
   "outputs": [],
   "source": []
  }
 ],
 "metadata": {
  "kernelspec": {
   "display_name": "Python 3",
   "language": "python",
   "name": "python3"
  },
  "language_info": {
   "codemirror_mode": {
    "name": "ipython",
    "version": 3
   },
   "file_extension": ".py",
   "mimetype": "text/x-python",
   "name": "python",
   "nbconvert_exporter": "python",
   "pygments_lexer": "ipython3",
   "version": "3.6.13"
  }
 },
 "nbformat": 4,
 "nbformat_minor": 5
}
